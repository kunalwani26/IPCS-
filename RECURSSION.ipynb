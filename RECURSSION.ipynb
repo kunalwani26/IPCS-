{
 "cells": [
  {
   "cell_type": "code",
   "execution_count": null,
   "id": "58375bdc",
   "metadata": {},
   "outputs": [],
   "source": [
    "n=9\n",
    "fact=1\n",
    "for i  in range(1,n+1):\n",
    "    fact=fact*i\n",
    "print(fact)"
   ]
  },
  {
   "cell_type": "code",
   "execution_count": null,
   "id": "0c4dc598",
   "metadata": {},
   "outputs": [],
   "source": [
    "def fact(n):\n",
    "    fact=1\n",
    "    for i in range(1,n+1):\n",
    "        fact=fact*i\n",
    "    return fact\n",
    "fact(4)\n"
   ]
  },
  {
   "cell_type": "markdown",
   "id": "70fd22b4",
   "metadata": {},
   "source": [
    "### with recurssion"
   ]
  },
  {
   "cell_type": "code",
   "execution_count": null,
   "id": "b2538d23",
   "metadata": {},
   "outputs": [],
   "source": [
    "def factorial(n):\n",
    "    if n==1 or n==0:\n",
    "        return 1\n",
    "    else:\n",
    "        return (n*factorial(n-1))\n",
    "factorial(4)"
   ]
  },
  {
   "cell_type": "code",
   "execution_count": null,
   "id": "fc1209a2",
   "metadata": {},
   "outputs": [],
   "source": [
    "facto=1\n",
    "for i in range(1,7):\n",
    "    facto=facto*i\n",
    "print(facto)"
   ]
  },
  {
   "cell_type": "code",
   "execution_count": null,
   "id": "8ea4b550",
   "metadata": {},
   "outputs": [],
   "source": [
    "def factorial(n):\n",
    "    fact=1\n",
    "    for i in range(1,n+1):\n",
    "        fact=fact*i\n",
    "    return fact\n",
    "factorial(4)"
   ]
  },
  {
   "cell_type": "code",
   "execution_count": null,
   "id": "c552c6f5",
   "metadata": {},
   "outputs": [],
   "source": [
    "def factorial(n):\n",
    "    fact=1\n",
    "    while n>=1:\n",
    "        fact=fact*n\n",
    "        n=n-1\n",
    "    return fact\n",
    "factorial(4)\n",
    "        "
   ]
  },
  {
   "cell_type": "markdown",
   "id": "89b96267",
   "metadata": {},
   "source": [
    "## Fibonaci series \n"
   ]
  },
  {
   "cell_type": "code",
   "execution_count": null,
   "id": "cf9b3749",
   "metadata": {},
   "outputs": [],
   "source": [
    "fibo=[0,1]\n",
    "for i in range(1,11):\n",
    "    next_term=fibo[-1]+fibo[-2]\n",
    "    fibo.append(next_term)\n",
    "fibo    \n",
    "    "
   ]
  },
  {
   "cell_type": "code",
   "execution_count": 1,
   "id": "eda16b26",
   "metadata": {},
   "outputs": [
    {
     "data": {
      "text/plain": [
       "[0, 1, 1, 2, 3, 5, 8]"
      ]
     },
     "execution_count": 1,
     "metadata": {},
     "output_type": "execute_result"
    }
   ],
   "source": [
    "#without recurssiom\n",
    "def fib(n):\n",
    "    fibo=[0,1]\n",
    "    for i in range(1,n+1):\n",
    "        next_term=fibo[-1]+fibo[-2]\n",
    "        fibo.append(next_term)\n",
    "    return fibo   \n",
    "fib(5)   "
   ]
  },
  {
   "cell_type": "code",
   "execution_count": 2,
   "id": "ae2f6905",
   "metadata": {},
   "outputs": [
    {
     "data": {
      "text/plain": [
       "[0, 1]"
      ]
     },
     "execution_count": 2,
     "metadata": {},
     "output_type": "execute_result"
    }
   ],
   "source": [
    "##without recurssion\n",
    "#[0,1,1,2,3,5,8,13.....]\n",
    "def fibonacci(n):\n",
    "    fib_sequence=[0 , 1]\n",
    "    if n<=1:\n",
    "        return fib_sequence\n",
    "    for i in range(2,n+1):  #DOUBT\n",
    "        next_term=fib_sequence[i-1]+fib_sequence[i-2]\n",
    "        fib_sequence.append(next_term)\n",
    "    return fib_sequence\n",
    "fibonacci(1)"
   ]
  },
  {
   "cell_type": "code",
   "execution_count": 11,
   "id": "6720c8f2",
   "metadata": {},
   "outputs": [
    {
     "name": "stdout",
     "output_type": "stream",
     "text": [
      "8\n"
     ]
    }
   ],
   "source": [
    "#with recurssion\n",
    "def fibonacci(n):\n",
    "    if n==0:\n",
    "        return 0\n",
    "    elif n== 1:\n",
    "        return 1\n",
    "    else:\n",
    "        return fibonacci(n-1) + fibonacci(n-2)\n",
    "print(fibonacci(6))      #DOUBT\n",
    "# for i in range(0,6):\n",
    "#     print(fibonacci(i), end=\" ,\")"
   ]
  },
  {
   "cell_type": "markdown",
   "id": "9629022a",
   "metadata": {},
   "source": [
    "# LAMDA FUNCTION"
   ]
  },
  {
   "cell_type": "code",
   "execution_count": 12,
   "id": "7e86051e",
   "metadata": {},
   "outputs": [
    {
     "data": {
      "text/plain": [
       "6"
      ]
     },
     "execution_count": 12,
     "metadata": {},
     "output_type": "execute_result"
    }
   ],
   "source": [
    "def add(a,b):\n",
    "    return a+b\n",
    "add(1,5)"
   ]
  },
  {
   "cell_type": "code",
   "execution_count": 17,
   "id": "dfe91a1f",
   "metadata": {},
   "outputs": [
    {
     "name": "stdout",
     "output_type": "stream",
     "text": [
      "9\n"
     ]
    }
   ],
   "source": [
    "x=lambda a,b:a+b\n",
    "# x=lambda a,b:a*b\n",
    "print(x(4,5))"
   ]
  },
  {
   "cell_type": "code",
   "execution_count": 18,
   "id": "b7dd987e",
   "metadata": {},
   "outputs": [
    {
     "data": {
      "text/plain": [
       "10"
      ]
     },
     "execution_count": 18,
     "metadata": {},
     "output_type": "execute_result"
    }
   ],
   "source": [
    "double=lambda a:a*2\n",
    "double(5)\n"
   ]
  },
  {
   "cell_type": "code",
   "execution_count": 19,
   "id": "6e72adc8",
   "metadata": {},
   "outputs": [
    {
     "data": {
      "text/plain": [
       "15"
      ]
     },
     "execution_count": 19,
     "metadata": {},
     "output_type": "execute_result"
    }
   ],
   "source": [
    "triple=lambda a:a*3\n",
    "triple(5)"
   ]
  },
  {
   "cell_type": "code",
   "execution_count": 22,
   "id": "09672b00",
   "metadata": {},
   "outputs": [
    {
     "data": {
      "text/plain": [
       "24"
      ]
     },
     "execution_count": 22,
     "metadata": {},
     "output_type": "execute_result"
    }
   ],
   "source": [
    "def fun(n):\n",
    "    return lambda a:a*n\n",
    "double=fun(3)\n",
    "double(8)"
   ]
  },
  {
   "cell_type": "code",
   "execution_count": 25,
   "id": "3cd435da",
   "metadata": {},
   "outputs": [
    {
     "data": {
      "text/plain": [
       "'even number'"
      ]
     },
     "execution_count": 25,
     "metadata": {},
     "output_type": "execute_result"
    }
   ],
   "source": [
    "def even_odd(n):\n",
    "    if n%2==0:\n",
    "        return \"even number\"\n",
    "    else:\n",
    "        return \"odd number\"\n",
    "even_odd(10)\n",
    "        "
   ]
  },
  {
   "cell_type": "code",
   "execution_count": 27,
   "id": "bfac5334",
   "metadata": {},
   "outputs": [
    {
     "data": {
      "text/plain": [
       "'odd'"
      ]
     },
     "execution_count": 27,
     "metadata": {},
     "output_type": "execute_result"
    }
   ],
   "source": [
    "x=lambda n:\"even\" if n%2==0 else \"odd\"\n",
    "x(9)"
   ]
  },
  {
   "cell_type": "code",
   "execution_count": 29,
   "id": "8ec5f666",
   "metadata": {},
   "outputs": [
    {
     "data": {
      "text/plain": [
       "[0, 1, 2, 3, 4]"
      ]
     },
     "execution_count": 29,
     "metadata": {},
     "output_type": "execute_result"
    }
   ],
   "source": [
    "[i for i in range(0,5)]"
   ]
  },
  {
   "cell_type": "code",
   "execution_count": 30,
   "id": "c498653a",
   "metadata": {},
   "outputs": [
    {
     "name": "stdout",
     "output_type": "stream",
     "text": [
      "[0, 1, 2, 3, 4]\n"
     ]
    }
   ],
   "source": [
    "n=[]\n",
    "for i in range(0,5):\n",
    "    n.append(i)\n",
    "print(n)"
   ]
  },
  {
   "cell_type": "code",
   "execution_count": 34,
   "id": "42a2e6b5",
   "metadata": {},
   "outputs": [
    {
     "data": {
      "text/plain": [
       "120"
      ]
     },
     "execution_count": 34,
     "metadata": {},
     "output_type": "execute_result"
    }
   ],
   "source": [
    "def fact(n):\n",
    "    if n==1:\n",
    "        return 1\n",
    "    else:\n",
    "        return n*fact(n-1)\n",
    "fact(5)"
   ]
  },
  {
   "cell_type": "code",
   "execution_count": 40,
   "id": "25ca3de2",
   "metadata": {},
   "outputs": [
    {
     "data": {
      "text/plain": [
       "102"
      ]
     },
     "execution_count": 40,
     "metadata": {},
     "output_type": "execute_result"
    }
   ],
   "source": [
    "o=90 \n",
    "def arithmetic():\n",
    "    t=7\n",
    "    s=5\n",
    "    j=t+s\n",
    "    \n",
    "    def add1():\n",
    "        b=t+s+o\n",
    "        return b\n",
    "#     add1()\n",
    "    return add1()\n",
    "\n",
    "\n",
    "arithmetic()\n"
   ]
  },
  {
   "cell_type": "code",
   "execution_count": null,
   "id": "8f9af590",
   "metadata": {},
   "outputs": [],
   "source": []
  },
  {
   "cell_type": "code",
   "execution_count": null,
   "id": "a88034ac",
   "metadata": {},
   "outputs": [],
   "source": []
  }
 ],
 "metadata": {
  "kernelspec": {
   "display_name": "Python 3 (ipykernel)",
   "language": "python",
   "name": "python3"
  },
  "language_info": {
   "codemirror_mode": {
    "name": "ipython",
    "version": 3
   },
   "file_extension": ".py",
   "mimetype": "text/x-python",
   "name": "python",
   "nbconvert_exporter": "python",
   "pygments_lexer": "ipython3",
   "version": "3.11.5"
  }
 },
 "nbformat": 4,
 "nbformat_minor": 5
}
