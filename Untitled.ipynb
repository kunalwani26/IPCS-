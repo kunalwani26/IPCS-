{
 "cells": [
  {
   "cell_type": "code",
   "execution_count": null,
   "id": "87ed71a5",
   "metadata": {},
   "outputs": [],
   "source": [
    "import datetime\n",
    "datetime_obj=datetime.datetime(2023,12,1,5,23,52)\n",
    "print(datetime_obj)\n"
   ]
  },
  {
   "cell_type": "code",
   "execution_count": null,
   "id": "ffc373c1",
   "metadata": {},
   "outputs": [],
   "source": [
    "import datetime\n",
    "datetime_obj=datetime.datetime(year=2023,month=12,day=1,hour=5,minute=23,second=52)\n",
    "print(datetime_obj)"
   ]
  },
  {
   "cell_type": "code",
   "execution_count": null,
   "id": "651c6ba2",
   "metadata": {},
   "outputs": [],
   "source": [
    "import datetime\n",
    "datetime_obj=datetime.datetime.now()\n",
    "print(datetime_obj)\n",
    "print('year:',datetime_obj.year)\n",
    "print('month:',datetime_obj.month)\n",
    "print('day:',datetime_obj.day)"
   ]
  },
  {
   "cell_type": "code",
   "execution_count": null,
   "id": "dacc0df4",
   "metadata": {},
   "outputs": [],
   "source": [
    "import datetime\n",
    "datetime_obj=datetime.datetime.now()\n",
    "print(datetime_obj)\n",
    "stringdatetime = datetime_obj.strftime(\"%y-%m-%d %H:%M:%S\")\n",
    "print(stringdatetime)"
   ]
  },
  {
   "cell_type": "markdown",
   "id": "71a0bced",
   "metadata": {},
   "source": [
    "## module math"
   ]
  },
  {
   "cell_type": "code",
   "execution_count": null,
   "id": "dfe6085a",
   "metadata": {},
   "outputs": [],
   "source": [
    "import math\n",
    "# x=10.1\n",
    "print(math.ceil(54.2))"
   ]
  },
  {
   "cell_type": "code",
   "execution_count": null,
   "id": "f9690c31",
   "metadata": {},
   "outputs": [],
   "source": [
    "import math\n",
    "x=-10.1\n",
    "print(math.fabs(x))"
   ]
  },
  {
   "cell_type": "code",
   "execution_count": null,
   "id": "e30aef36",
   "metadata": {},
   "outputs": [],
   "source": [
    "import math\n",
    "x=5\n",
    "print(math.factorial(x))"
   ]
  },
  {
   "cell_type": "code",
   "execution_count": null,
   "id": "fb917ad8",
   "metadata": {},
   "outputs": [],
   "source": [
    "print(math.floor(10.2))"
   ]
  },
  {
   "cell_type": "code",
   "execution_count": null,
   "id": "6bb180e9",
   "metadata": {},
   "outputs": [],
   "source": [
    "print(math.sqrt(10)) "
   ]
  },
  {
   "cell_type": "code",
   "execution_count": null,
   "id": "49b1352a",
   "metadata": {},
   "outputs": [],
   "source": [
    "x=[2]"
   ]
  },
  {
   "cell_type": "code",
   "execution_count": null,
   "id": "ce4c14da",
   "metadata": {},
   "outputs": [],
   "source": [
    "chr(35)\n"
   ]
  },
  {
   "cell_type": "code",
   "execution_count": null,
   "id": "c73b273d",
   "metadata": {},
   "outputs": [],
   "source": [
    "ord('#')"
   ]
  },
  {
   "cell_type": "code",
   "execution_count": null,
   "id": "04bbd517",
   "metadata": {},
   "outputs": [],
   "source": [
    "chr(65)"
   ]
  },
  {
   "cell_type": "code",
   "execution_count": null,
   "id": "89a87310",
   "metadata": {},
   "outputs": [],
   "source": [
    "ord('A')"
   ]
  },
  {
   "cell_type": "code",
   "execution_count": null,
   "id": "e0625f92",
   "metadata": {},
   "outputs": [],
   "source": [
    "name='435468'\n",
    "print(name.isdigit()) #string should only contain numeric"
   ]
  },
  {
   "cell_type": "code",
   "execution_count": null,
   "id": "27153a49",
   "metadata": {},
   "outputs": [],
   "source": [
    "name='gdgfsdhsdg'\n",
    "print(name.isalpha()) #string should only contain alphha bet"
   ]
  },
  {
   "cell_type": "code",
   "execution_count": null,
   "id": "ef2b2aca",
   "metadata": {},
   "outputs": [],
   "source": [
    "name='gfdgusfdg5656'\n",
    "y=name.isalnum() #string should contain both alphanumeric\n",
    "print(name)\n",
    "print(y)"
   ]
  },
  {
   "cell_type": "code",
   "execution_count": null,
   "id": "fc6217dd",
   "metadata": {},
   "outputs": [],
   "source": [
    "name='kunal is a learner in ipcs global'\n",
    "y=name.title()\n",
    "print(y)"
   ]
  },
  {
   "cell_type": "code",
   "execution_count": null,
   "id": "b0573353",
   "metadata": {},
   "outputs": [],
   "source": [
    "name='kunal is a learner in ipcs global'\n",
    "y=name.upper()\n",
    "print(y)"
   ]
  },
  {
   "cell_type": "code",
   "execution_count": null,
   "id": "c14f204c",
   "metadata": {},
   "outputs": [],
   "source": [
    "name='kunal is a learner in ipcs global'\n",
    "y=name.capitalize()\n",
    "print(y)"
   ]
  },
  {
   "cell_type": "code",
   "execution_count": null,
   "id": "0bae206a",
   "metadata": {},
   "outputs": [],
   "source": [
    "name='Kunal is a learner in ipcs global'\n",
    "y=name.islower()\n",
    "print(y)"
   ]
  },
  {
   "cell_type": "code",
   "execution_count": null,
   "id": "7f9f0c9a",
   "metadata": {},
   "outputs": [],
   "source": [
    "prc={1,2,3,4,5}\n",
    "prc[0]=99\n",
    "print(prc)"
   ]
  },
  {
   "cell_type": "markdown",
   "id": "9cbbf7df",
   "metadata": {},
   "source": [
    "# FOR LOOP"
   ]
  },
  {
   "cell_type": "code",
   "execution_count": null,
   "id": "5c5cd3e4",
   "metadata": {},
   "outputs": [],
   "source": [
    "total=0\n",
    "for i in range(1,51):\n",
    "    total=total+i\n",
    "    print(total)"
   ]
  },
  {
   "cell_type": "code",
   "execution_count": null,
   "id": "c9d59b64",
   "metadata": {
    "scrolled": false
   },
   "outputs": [],
   "source": [
    "num=int(input(\"enter a number until you want to add\"))\n",
    "total=0\n",
    "for i in range(1,num+1):\n",
    "    total+=i\n",
    "    print(total)"
   ]
  },
  {
   "cell_type": "code",
   "execution_count": null,
   "id": "92805646",
   "metadata": {
    "scrolled": false
   },
   "outputs": [],
   "source": [
    "l=[]\n",
    "num=int(input(\"enter a number\"))\n",
    "for i in range(1,num+1):\n",
    "    l.append(i*i)\n",
    "print(l)"
   ]
  },
  {
   "cell_type": "code",
   "execution_count": 1,
   "id": "ed0e656b",
   "metadata": {},
   "outputs": [
    {
     "name": "stdout",
     "output_type": "stream",
     "text": [
      "[1.0, 4.0, 9.0, 16.0, 25.0, 36.0, 49.0, 64.0, 81.0, 100.0]\n"
     ]
    }
   ],
   "source": [
    "import math\n",
    "squares=[]\n",
    "for i in range(1,11):\n",
    "    square=math.pow(i,2)\n",
    "    squares.append(square)\n",
    "print(squares)\n",
    "    "
   ]
  },
  {
   "cell_type": "code",
   "execution_count": 3,
   "id": "1c21fa58",
   "metadata": {},
   "outputs": [
    {
     "name": "stdout",
     "output_type": "stream",
     "text": [
      "[1, 4, 9, 16, 25, 36, 49, 64, 81, 100]\n"
     ]
    }
   ],
   "source": [
    "squares=[]\n",
    "for i in range(1,11):\n",
    "    square=i**2\n",
    "    squares.append(square)\n",
    "print(squares)"
   ]
  },
  {
   "cell_type": "code",
   "execution_count": 6,
   "id": "1cc9a193",
   "metadata": {},
   "outputs": [
    {
     "name": "stdout",
     "output_type": "stream",
     "text": [
      "enter a number  you want factorial of:5\n",
      "120\n"
     ]
    }
   ],
   "source": [
    "n=eval(input(\"enter a number  you want factorial of:\"))\n",
    "factorial=1\n",
    "for i in range(1,n+1):\n",
    "    factorial=factorial*i\n",
    "print(factorial)"
   ]
  },
  {
   "cell_type": "code",
   "execution_count": 9,
   "id": "bae40ada",
   "metadata": {
    "scrolled": true
   },
   "outputs": [
    {
     "name": "stdout",
     "output_type": "stream",
     "text": [
      "enter a number5\n",
      "5*1=5\n",
      "5*2=10\n",
      "5*3=15\n",
      "5*4=20\n",
      "5*5=25\n",
      "5*6=30\n",
      "5*7=35\n",
      "5*8=40\n",
      "5*9=45\n",
      "5*10=50\n"
     ]
    }
   ],
   "source": [
    "num=int(input(\"enter a number\"))\n",
    "for i in range(1,11):\n",
    "    print(f\"{num}*{i}={num*i}\")"
   ]
  },
  {
   "cell_type": "code",
   "execution_count": 10,
   "id": "c9328c27",
   "metadata": {},
   "outputs": [
    {
     "name": "stdout",
     "output_type": "stream",
     "text": [
      "kw\n",
      "uw\n",
      "nw\n",
      "aw\n",
      "lw\n"
     ]
    }
   ],
   "source": [
    "k=\"kunal\"\n",
    "for character in k:\n",
    "    print(character+\"w\")"
   ]
  },
  {
   "cell_type": "code",
   "execution_count": null,
   "id": "9ae47726",
   "metadata": {},
   "outputs": [],
   "source": []
  }
 ],
 "metadata": {
  "kernelspec": {
   "display_name": "Python 3 (ipykernel)",
   "language": "python",
   "name": "python3"
  },
  "language_info": {
   "codemirror_mode": {
    "name": "ipython",
    "version": 3
   },
   "file_extension": ".py",
   "mimetype": "text/x-python",
   "name": "python",
   "nbconvert_exporter": "python",
   "pygments_lexer": "ipython3",
   "version": "3.11.5"
  }
 },
 "nbformat": 4,
 "nbformat_minor": 5
}
