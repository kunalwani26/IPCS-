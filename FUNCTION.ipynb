{
 "cells": [
  {
   "cell_type": "markdown",
   "id": "32cfac71",
   "metadata": {},
   "source": [
    "### inbuilt functin"
   ]
  },
  {
   "cell_type": "code",
   "execution_count": null,
   "id": "5cfb674d",
   "metadata": {},
   "outputs": [],
   "source": [
    "# a=-999\n",
    "# abs(a)  #covert from negative inter to positive\n",
    "\n",
    "\n",
    "b=\"-2598673\"\n",
    "int(b[1:])"
   ]
  },
  {
   "cell_type": "code",
   "execution_count": null,
   "id": "1e54b21c",
   "metadata": {},
   "outputs": [],
   "source": [
    "pow(2,3)"
   ]
  },
  {
   "cell_type": "code",
   "execution_count": null,
   "id": "e7f03538",
   "metadata": {},
   "outputs": [],
   "source": [
    "def power(a,b):\n",
    "    return a**b\n",
    "power(2,14)"
   ]
  },
  {
   "cell_type": "code",
   "execution_count": null,
   "id": "4c123783",
   "metadata": {},
   "outputs": [],
   "source": [
    "def absolute(n):\n",
    "    s=str(n)\n",
    "    if \"-\" in s:\n",
    "        print(int(s[1:]))\n",
    "    else:\n",
    "        print(int(s))\n",
    "        \n",
    "absolute(-8841)"
   ]
  },
  {
   "cell_type": "code",
   "execution_count": null,
   "id": "b8981f72",
   "metadata": {},
   "outputs": [],
   "source": [
    "def kunal():\n",
    "    num=int(input(\"enter a number\")) #-999\n",
    "    formated_string=str (num)\n",
    "    if formated_string[0]==\"-\":\n",
    "        print(int(formated_string[1:]))\n",
    "    else:\n",
    "        print(num)\n",
    "kunal()"
   ]
  },
  {
   "cell_type": "code",
   "execution_count": null,
   "id": "12a85596",
   "metadata": {},
   "outputs": [],
   "source": []
  },
  {
   "cell_type": "markdown",
   "id": "6ceb945a",
   "metadata": {},
   "source": [
    "### dir()"
   ]
  },
  {
   "cell_type": "code",
   "execution_count": null,
   "id": "055b6d1a",
   "metadata": {},
   "outputs": [],
   "source": [
    "import math\n",
    "print(dir(math))"
   ]
  },
  {
   "cell_type": "code",
   "execution_count": null,
   "id": "8f8f29dd",
   "metadata": {},
   "outputs": [],
   "source": [
    "math.sqrt(64)"
   ]
  },
  {
   "cell_type": "code",
   "execution_count": null,
   "id": "f8b70fac",
   "metadata": {},
   "outputs": [],
   "source": [
    "def sqrroot(a):\n",
    "    return int(a**0.5)\n",
    "sqrroot(64)"
   ]
  },
  {
   "cell_type": "code",
   "execution_count": null,
   "id": "02d1bd66",
   "metadata": {},
   "outputs": [],
   "source": [
    "round(999.4)\n"
   ]
  },
  {
   "cell_type": "code",
   "execution_count": null,
   "id": "6cfbfab8",
   "metadata": {},
   "outputs": [],
   "source": [
    "round(999.5)\n",
    "\n"
   ]
  },
  {
   "cell_type": "code",
   "execution_count": null,
   "id": "654f64b9",
   "metadata": {},
   "outputs": [],
   "source": [
    "round(999.7)"
   ]
  },
  {
   "cell_type": "code",
   "execution_count": null,
   "id": "723b622f",
   "metadata": {},
   "outputs": [],
   "source": [
    "int(54.8)"
   ]
  },
  {
   "cell_type": "code",
   "execution_count": null,
   "id": "3aa31984",
   "metadata": {},
   "outputs": [],
   "source": [
    "def round_up(a):\n",
    "    decimal_part=a-int(a)\n",
    "    if decimal_part>=0.5:\n",
    "        print(int(a)+1)\n",
    "    else:\n",
    "        print(int(a))\n",
    "round_up(865.6)"
   ]
  },
  {
   "cell_type": "code",
   "execution_count": null,
   "id": "289de8d1",
   "metadata": {},
   "outputs": [],
   "source": [
    "a=90\n",
    "id(a)"
   ]
  },
  {
   "cell_type": "markdown",
   "id": "94c23d49",
   "metadata": {},
   "source": [
    "### divmod"
   ]
  },
  {
   "cell_type": "code",
   "execution_count": null,
   "id": "98ad7b0e",
   "metadata": {},
   "outputs": [],
   "source": [
    "23%14"
   ]
  },
  {
   "cell_type": "code",
   "execution_count": null,
   "id": "4f6d7f06",
   "metadata": {},
   "outputs": [],
   "source": [
    "2%2"
   ]
  },
  {
   "cell_type": "code",
   "execution_count": 1,
   "id": "783a2d55",
   "metadata": {},
   "outputs": [
    {
     "data": {
      "text/plain": [
       "(1, 0)"
      ]
     },
     "execution_count": 1,
     "metadata": {},
     "output_type": "execute_result"
    }
   ],
   "source": [
    "a=2\n",
    "b=2\n",
    "divmod(a,b)"
   ]
  },
  {
   "cell_type": "markdown",
   "id": "24392167",
   "metadata": {},
   "source": [
    "### ord()"
   ]
  },
  {
   "cell_type": "code",
   "execution_count": null,
   "id": "dad9db8d",
   "metadata": {},
   "outputs": [],
   "source": [
    "ord(\"a\")\n",
    "ord(\"A\")"
   ]
  },
  {
   "cell_type": "markdown",
   "id": "cfafd13a",
   "metadata": {},
   "source": [
    "### help()"
   ]
  },
  {
   "cell_type": "code",
   "execution_count": null,
   "id": "6c60a2b1",
   "metadata": {},
   "outputs": [],
   "source": [
    "help(print)\n"
   ]
  },
  {
   "cell_type": "code",
   "execution_count": null,
   "id": "0d9b4428",
   "metadata": {},
   "outputs": [],
   "source": [
    "help(math)"
   ]
  },
  {
   "cell_type": "markdown",
   "id": "c8ffbed0",
   "metadata": {},
   "source": [
    "### sum()"
   ]
  },
  {
   "cell_type": "code",
   "execution_count": 1,
   "id": "d5e35fff",
   "metadata": {},
   "outputs": [
    {
     "data": {
      "text/plain": [
       "15"
      ]
     },
     "execution_count": 1,
     "metadata": {},
     "output_type": "execute_result"
    }
   ],
   "source": [
    "l=[1,2,3,4,5]\n",
    "sum(l)"
   ]
  },
  {
   "cell_type": "code",
   "execution_count": 2,
   "id": "c55bb487",
   "metadata": {},
   "outputs": [
    {
     "data": {
      "text/plain": [
       "20"
      ]
     },
     "execution_count": 2,
     "metadata": {},
     "output_type": "execute_result"
    }
   ],
   "source": [
    "a=10\n",
    "b=10\n",
    "a+b"
   ]
  },
  {
   "cell_type": "code",
   "execution_count": 4,
   "id": "46d22a00",
   "metadata": {},
   "outputs": [
    {
     "name": "stdout",
     "output_type": "stream",
     "text": [
      "enter n1:10\n",
      "enter n2:10\n"
     ]
    },
    {
     "data": {
      "text/plain": [
       "20"
      ]
     },
     "execution_count": 4,
     "metadata": {},
     "output_type": "execute_result"
    }
   ],
   "source": [
    "def add():\n",
    "    a=int(input(\"enter n1:\"))\n",
    "    b=int(input(\"enter n2:\"))  \n",
    "    c=a+b\n",
    "    return c\n",
    "add()\n",
    "    "
   ]
  },
  {
   "cell_type": "code",
   "execution_count": 5,
   "id": "698b39fb",
   "metadata": {},
   "outputs": [
    {
     "data": {
      "text/plain": [
       "288"
      ]
     },
     "execution_count": 5,
     "metadata": {},
     "output_type": "execute_result"
    }
   ],
   "source": [
    "def mul():\n",
    "    x=12\n",
    "    y=24\n",
    "    z=x*y\n",
    "    return z\n",
    "mul()"
   ]
  },
  {
   "cell_type": "code",
   "execution_count": 6,
   "id": "4cfd386b",
   "metadata": {},
   "outputs": [
    {
     "name": "stdout",
     "output_type": "stream",
     "text": [
      "enter a number10\n"
     ]
    },
    {
     "data": {
      "text/plain": [
       "100"
      ]
     },
     "execution_count": 6,
     "metadata": {},
     "output_type": "execute_result"
    }
   ],
   "source": [
    "def square():\n",
    "    num=int(input(\"enter a number\"))\n",
    "    sqr=num*num\n",
    "    return sqr\n",
    "square()\n"
   ]
  },
  {
   "cell_type": "code",
   "execution_count": 8,
   "id": "c502acdb",
   "metadata": {},
   "outputs": [
    {
     "name": "stdout",
     "output_type": "stream",
     "text": [
      "49\n"
     ]
    }
   ],
   "source": [
    "def square(x):\n",
    "    y=x*x\n",
    "    print(y)\n",
    "square(7)"
   ]
  },
  {
   "cell_type": "code",
   "execution_count": 9,
   "id": "f902c22b",
   "metadata": {},
   "outputs": [
    {
     "name": "stdout",
     "output_type": "stream",
     "text": [
      "enter a number2\n"
     ]
    },
    {
     "data": {
      "text/plain": [
       "8"
      ]
     },
     "execution_count": 9,
     "metadata": {},
     "output_type": "execute_result"
    }
   ],
   "source": [
    "def cube():\n",
    "    num=int(input(\"enter a number\"))\n",
    "    cub=num*num*num\n",
    "    return cub\n",
    "cube()\n"
   ]
  },
  {
   "cell_type": "markdown",
   "id": "b90f0413",
   "metadata": {},
   "source": [
    "### with parameter and  with return\n"
   ]
  },
  {
   "cell_type": "code",
   "execution_count": 19,
   "id": "1c1197b9",
   "metadata": {},
   "outputs": [
    {
     "data": {
      "text/plain": [
       "125"
      ]
     },
     "execution_count": 19,
     "metadata": {},
     "output_type": "execute_result"
    }
   ],
   "source": [
    "def cube():\n",
    "    n=5 # parameter passed in a function\n",
    "    c=n**3\n",
    "    return c\n",
    "cube()"
   ]
  },
  {
   "cell_type": "code",
   "execution_count": 20,
   "id": "e4248a08",
   "metadata": {},
   "outputs": [
    {
     "data": {
      "text/plain": [
       "125"
      ]
     },
     "execution_count": 20,
     "metadata": {},
     "output_type": "execute_result"
    }
   ],
   "source": [
    "def cube(n):\n",
    "#     n=5 \n",
    "    c=n**3\n",
    "    return c\n",
    "cube(5)\n"
   ]
  },
  {
   "cell_type": "markdown",
   "id": "046116a8",
   "metadata": {},
   "source": [
    "### Function without return and without parameter\n"
   ]
  },
  {
   "cell_type": "code",
   "execution_count": 21,
   "id": "a07ca0df",
   "metadata": {},
   "outputs": [
    {
     "name": "stdout",
     "output_type": "stream",
     "text": [
      "78\n"
     ]
    }
   ],
   "source": [
    "def mult():\n",
    "    x=13\n",
    "    y=6\n",
    "    z=x*y\n",
    "    print(z)\n",
    "mult()"
   ]
  },
  {
   "cell_type": "markdown",
   "id": "abd77033",
   "metadata": {},
   "source": [
    "### Function with return and without parameter\n"
   ]
  },
  {
   "cell_type": "code",
   "execution_count": 22,
   "id": "f55d61ce",
   "metadata": {},
   "outputs": [
    {
     "data": {
      "text/plain": [
       "48"
      ]
     },
     "execution_count": 22,
     "metadata": {},
     "output_type": "execute_result"
    }
   ],
   "source": [
    "def mult():\n",
    "    x=12\n",
    "    y=4\n",
    "    z=x*y\n",
    "    return z\n",
    "mult()"
   ]
  },
  {
   "cell_type": "code",
   "execution_count": 25,
   "id": "23ca29a5",
   "metadata": {},
   "outputs": [
    {
     "name": "stdout",
     "output_type": "stream",
     "text": [
      "enter:5\n",
      "enter:5\n"
     ]
    },
    {
     "data": {
      "text/plain": [
       "25"
      ]
     },
     "execution_count": 25,
     "metadata": {},
     "output_type": "execute_result"
    }
   ],
   "source": [
    "def mult():\n",
    "    x=int(input(\"enter:\"))\n",
    "    y=int(input(\"enter:\"))\n",
    "    \n",
    "    z=x*y\n",
    "    return z\n",
    "mult()"
   ]
  },
  {
   "cell_type": "markdown",
   "id": "95f4c429",
   "metadata": {},
   "source": [
    "### Function without return and with parameter\n"
   ]
  },
  {
   "cell_type": "code",
   "execution_count": 32,
   "id": "2cdb4f85",
   "metadata": {},
   "outputs": [
    {
     "name": "stdout",
     "output_type": "stream",
     "text": [
      "35\n"
     ]
    }
   ],
   "source": [
    "def sum1(a,b):\n",
    "    c=a+b\n",
    "    print(c)\n",
    "sum1(10,25)"
   ]
  },
  {
   "cell_type": "code",
   "execution_count": 33,
   "id": "bf3ff671",
   "metadata": {},
   "outputs": [
    {
     "data": {
      "text/plain": [
       "23"
      ]
     },
     "execution_count": 33,
     "metadata": {},
     "output_type": "execute_result"
    }
   ],
   "source": [
    "l=[1,2,9,0,23]\n",
    "max(l)"
   ]
  },
  {
   "cell_type": "code",
   "execution_count": 34,
   "id": "772b88b7",
   "metadata": {},
   "outputs": [
    {
     "data": {
      "text/plain": [
       "0"
      ]
     },
     "execution_count": 34,
     "metadata": {},
     "output_type": "execute_result"
    }
   ],
   "source": [
    "l=[1,2,9,0,23]\n",
    "min(l)"
   ]
  },
  {
   "cell_type": "code",
   "execution_count": 38,
   "id": "e7b03db2",
   "metadata": {},
   "outputs": [
    {
     "name": "stdout",
     "output_type": "stream",
     "text": [
      "56\n"
     ]
    }
   ],
   "source": [
    "def maxin():\n",
    "    \n",
    "    l=[34,21,56,34,23]\n",
    "    max1=l[0]\n",
    "    for num in l:\n",
    "        if num>max1:\n",
    "            max1=num\n",
    "    print(max1)\n",
    "maxin()\n",
    "    \n"
   ]
  },
  {
   "cell_type": "code",
   "execution_count": 39,
   "id": "11a997d8",
   "metadata": {},
   "outputs": [
    {
     "name": "stdout",
     "output_type": "stream",
     "text": [
      "56\n"
     ]
    }
   ],
   "source": [
    "def maxin(l):\n",
    "    max1=l[0]\n",
    "    for num in l:\n",
    "        if num>max1:\n",
    "            max1=num\n",
    "    print(max1)\n",
    "maxin([34,21,56,34,23])"
   ]
  },
  {
   "cell_type": "code",
   "execution_count": 40,
   "id": "07e7e430",
   "metadata": {},
   "outputs": [
    {
     "name": "stdout",
     "output_type": "stream",
     "text": [
      "56\n"
     ]
    }
   ],
   "source": [
    "def maxin(l):\n",
    "    max1=l[0]\n",
    "    for num in l:\n",
    "        if num>max1:\n",
    "            max1=num\n",
    "    print(max1)\n",
    "maxin((34,21,56,34,23))"
   ]
  },
  {
   "cell_type": "code",
   "execution_count": 41,
   "id": "0a3f9794",
   "metadata": {},
   "outputs": [
    {
     "data": {
      "text/plain": [
       "120"
      ]
     },
     "execution_count": 41,
     "metadata": {},
     "output_type": "execute_result"
    }
   ],
   "source": [
    "import math\n",
    "math.factorial(5)"
   ]
  },
  {
   "cell_type": "code",
   "execution_count": 42,
   "id": "87c48f6f",
   "metadata": {},
   "outputs": [
    {
     "data": {
      "text/plain": [
       "120"
      ]
     },
     "execution_count": 42,
     "metadata": {},
     "output_type": "execute_result"
    }
   ],
   "source": [
    "def factor(n):\n",
    "    factorial=1\n",
    "    for i in range(1,n+1):\n",
    "        factorial=i*factorial\n",
    "    return factorial\n",
    "factor(5)"
   ]
  },
  {
   "cell_type": "markdown",
   "id": "c7034a15",
   "metadata": {},
   "source": [
    "### Scope of variables\n"
   ]
  },
  {
   "cell_type": "markdown",
   "id": "c53d9b13",
   "metadata": {},
   "source": [
    "### local variable"
   ]
  },
  {
   "cell_type": "code",
   "execution_count": 45,
   "id": "3e4c4348",
   "metadata": {},
   "outputs": [
    {
     "data": {
      "text/plain": [
       "3.0"
      ]
     },
     "execution_count": 45,
     "metadata": {},
     "output_type": "execute_result"
    }
   ],
   "source": [
    "def divide(e):\n",
    "    b=3\n",
    "    return e/b\n",
    "divide(9)"
   ]
  },
  {
   "cell_type": "code",
   "execution_count": 46,
   "id": "75427435",
   "metadata": {},
   "outputs": [
    {
     "data": {
      "text/plain": [
       "31"
      ]
     },
     "execution_count": 46,
     "metadata": {},
     "output_type": "execute_result"
    }
   ],
   "source": [
    "def summation(a,b):\n",
    "    c=12 #local variable\n",
    "    return a+b+c\n",
    "summation(9,10)"
   ]
  },
  {
   "cell_type": "code",
   "execution_count": 47,
   "id": "d62f93f2",
   "metadata": {},
   "outputs": [
    {
     "data": {
      "text/plain": [
       "31"
      ]
     },
     "execution_count": 47,
     "metadata": {},
     "output_type": "execute_result"
    }
   ],
   "source": [
    "c=12    #global variable\n",
    "def summation(a,b):\n",
    "#     c=12 #local variable\n",
    "    return a+b+c\n",
    "summation(9,10)"
   ]
  },
  {
   "cell_type": "code",
   "execution_count": 57,
   "id": "20193eda",
   "metadata": {},
   "outputs": [
    {
     "data": {
      "text/plain": [
       "345"
      ]
     },
     "execution_count": 57,
     "metadata": {},
     "output_type": "execute_result"
    }
   ],
   "source": [
    "x=89   #global\n",
    "def m1():\n",
    "    y=345 #local\n",
    "    return y\n",
    "    return y+x\n",
    "m1()"
   ]
  },
  {
   "cell_type": "code",
   "execution_count": 55,
   "id": "efa26f5e",
   "metadata": {},
   "outputs": [
    {
     "name": "stdout",
     "output_type": "stream",
     "text": [
      "345\n",
      "434\n"
     ]
    }
   ],
   "source": [
    "x=89\n",
    "def m1():\n",
    "    y=345  #local\n",
    "    print(y)\n",
    "    print(y+x)\n",
    "m1()"
   ]
  },
  {
   "cell_type": "markdown",
   "id": "bd1cb552",
   "metadata": {},
   "source": [
    "### global scope\n"
   ]
  },
  {
   "cell_type": "code",
   "execution_count": 58,
   "id": "da750feb",
   "metadata": {},
   "outputs": [
    {
     "data": {
      "text/plain": [
       "0.2222222222222222"
      ]
     },
     "execution_count": 58,
     "metadata": {},
     "output_type": "execute_result"
    }
   ],
   "source": [
    "b=45#global variable\n",
    "def divide(a):\n",
    "\n",
    "    return a/b\n",
    "divide(10)"
   ]
  },
  {
   "cell_type": "code",
   "execution_count": 59,
   "id": "21a56b42",
   "metadata": {},
   "outputs": [
    {
     "name": "stdout",
     "output_type": "stream",
     "text": [
      "45\n"
     ]
    }
   ],
   "source": [
    "print(b)"
   ]
  },
  {
   "cell_type": "code",
   "execution_count": 66,
   "id": "98d9063b",
   "metadata": {},
   "outputs": [
    {
     "name": "stdout",
     "output_type": "stream",
     "text": [
      "657\n",
      "90\n"
     ]
    }
   ],
   "source": [
    "c=657  #global scope give benefits to use to use the variable in the program\n",
    "def m2():\n",
    "    c=657  #global scope give benefits to use to use the variable only within declared fuction\n",
    "    v=90 \n",
    "    print(c)\n",
    "    print(v)\n",
    "m2()"
   ]
  },
  {
   "cell_type": "code",
   "execution_count": 67,
   "id": "82d24f64",
   "metadata": {},
   "outputs": [
    {
     "data": {
      "text/plain": [
       "40"
      ]
     },
     "execution_count": 67,
     "metadata": {},
     "output_type": "execute_result"
    }
   ],
   "source": [
    "p=20\n",
    "def mult(a):\n",
    "    return a*p\n",
    "mult(2)"
   ]
  },
  {
   "cell_type": "code",
   "execution_count": null,
   "id": "be1c89cc",
   "metadata": {},
   "outputs": [],
   "source": []
  },
  {
   "cell_type": "code",
   "execution_count": 68,
   "id": "54332296",
   "metadata": {},
   "outputs": [
    {
     "data": {
      "text/plain": [
       "3.0"
      ]
     },
     "execution_count": 68,
     "metadata": {},
     "output_type": "execute_result"
    }
   ],
   "source": [
    "a=15\n",
    "def divide(b):\n",
    "    div=a/b\n",
    "    return div\n",
    "divide(5)"
   ]
  },
  {
   "cell_type": "code",
   "execution_count": 69,
   "id": "883b2a4e",
   "metadata": {},
   "outputs": [
    {
     "name": "stdout",
     "output_type": "stream",
     "text": [
      "enter:5\n",
      "enter:5\n"
     ]
    },
    {
     "data": {
      "text/plain": [
       "25"
      ]
     },
     "execution_count": 69,
     "metadata": {},
     "output_type": "execute_result"
    }
   ],
   "source": [
    "def mult():\n",
    "    x=int(input(\"enter:\"))\n",
    "    y=int(input(\"enter:\"))\n",
    "    z=x*y\n",
    "    return z\n",
    "mult()"
   ]
  },
  {
   "cell_type": "code",
   "execution_count": 70,
   "id": "4d36fdd5",
   "metadata": {},
   "outputs": [
    {
     "data": {
      "text/plain": [
       "3510"
      ]
     },
     "execution_count": 70,
     "metadata": {},
     "output_type": "execute_result"
    }
   ],
   "source": [
    "def mult():\n",
    "    global f\n",
    "    f=45\n",
    "    global j\n",
    "    j=78\n",
    "    return f*j\n",
    "mult()"
   ]
  },
  {
   "cell_type": "code",
   "execution_count": 71,
   "id": "5a2f42f4",
   "metadata": {},
   "outputs": [
    {
     "name": "stdout",
     "output_type": "stream",
     "text": [
      "45\n"
     ]
    }
   ],
   "source": [
    "print(f)"
   ]
  },
  {
   "cell_type": "code",
   "execution_count": 72,
   "id": "ccb26879",
   "metadata": {},
   "outputs": [
    {
     "data": {
      "text/plain": [
       "3026"
      ]
     },
     "execution_count": 72,
     "metadata": {},
     "output_type": "execute_result"
    }
   ],
   "source": [
    "f=34\n",
    "j=89\n",
    "def mult():\n",
    "\n",
    "    return f*j\n",
    "mult()"
   ]
  },
  {
   "cell_type": "code",
   "execution_count": 73,
   "id": "d2bdc87d",
   "metadata": {},
   "outputs": [
    {
     "data": {
      "text/plain": [
       "0.38202247191011235"
      ]
     },
     "execution_count": 73,
     "metadata": {},
     "output_type": "execute_result"
    }
   ],
   "source": [
    "def divide():\n",
    "    return f/j\n",
    "divide()"
   ]
  },
  {
   "cell_type": "code",
   "execution_count": 74,
   "id": "e27e2a29",
   "metadata": {},
   "outputs": [
    {
     "data": {
      "text/plain": [
       "68"
      ]
     },
     "execution_count": 74,
     "metadata": {},
     "output_type": "execute_result"
    }
   ],
   "source": [
    "def arithmetic():\n",
    "    global h\n",
    "    h=23 #global\n",
    "    y=45 #local\n",
    "    return h+y\n",
    "arithmetic()"
   ]
  },
  {
   "cell_type": "code",
   "execution_count": 75,
   "id": "0d1174ad",
   "metadata": {},
   "outputs": [
    {
     "data": {
      "text/plain": [
       "23"
      ]
     },
     "execution_count": 75,
     "metadata": {},
     "output_type": "execute_result"
    }
   ],
   "source": [
    "h\n"
   ]
  },
  {
   "cell_type": "code",
   "execution_count": 76,
   "id": "69dfad90",
   "metadata": {},
   "outputs": [
    {
     "ename": "NameError",
     "evalue": "name 'y' is not defined",
     "output_type": "error",
     "traceback": [
      "\u001b[1;31m---------------------------------------------------------------------------\u001b[0m",
      "\u001b[1;31mNameError\u001b[0m                                 Traceback (most recent call last)",
      "Cell \u001b[1;32mIn[76], line 1\u001b[0m\n\u001b[1;32m----> 1\u001b[0m y\n",
      "\u001b[1;31mNameError\u001b[0m: name 'y' is not defined"
     ]
    }
   ],
   "source": [
    "y\n"
   ]
  },
  {
   "cell_type": "code",
   "execution_count": 77,
   "id": "3ec3ef53",
   "metadata": {},
   "outputs": [
    {
     "name": "stdout",
     "output_type": "stream",
     "text": [
      "35\n"
     ]
    }
   ],
   "source": [
    "def arithmatic():\n",
    "    global h\n",
    "    h=23\n",
    "    y=12\n",
    "    z=h+y\n",
    "    print(z)\n",
    "arithmatic()   "
   ]
  },
  {
   "cell_type": "code",
   "execution_count": null,
   "id": "4dcf8e52",
   "metadata": {},
   "outputs": [],
   "source": []
  }
 ],
 "metadata": {
  "kernelspec": {
   "display_name": "Python 3 (ipykernel)",
   "language": "python",
   "name": "python3"
  },
  "language_info": {
   "codemirror_mode": {
    "name": "ipython",
    "version": 3
   },
   "file_extension": ".py",
   "mimetype": "text/x-python",
   "name": "python",
   "nbconvert_exporter": "python",
   "pygments_lexer": "ipython3",
   "version": "3.11.5"
  }
 },
 "nbformat": 4,
 "nbformat_minor": 5
}
