{
 "cells": [
  {
   "cell_type": "markdown",
   "id": "195d948c",
   "metadata": {},
   "source": [
    "### 1. Write a program that takes an integer as input and converts it into a string. Then, concatenate itwith another string and print the result."
   ]
  },
  {
   "cell_type": "code",
   "execution_count": 8,
   "id": "2c911caa",
   "metadata": {},
   "outputs": [
    {
     "name": "stdout",
     "output_type": "stream",
     "text": [
      "write a number: 99\n",
      "99 you like\n"
     ]
    }
   ],
   "source": [
    "a=int(input('write a number: '))\n",
    "x=str(a)\n",
    "y=\"you like\"\n",
    "\n",
    "print( x + \" \"+ y)\n"
   ]
  },
  {
   "cell_type": "markdown",
   "id": "7a3cfbd8",
   "metadata": {},
   "source": [
    "### 2. Write a program that takes a numerical string as input and converts it into an integer. Performarithmetic operations on the integer and print the results."
   ]
  },
  {
   "cell_type": "code",
   "execution_count": 11,
   "id": "93b2d97b",
   "metadata": {},
   "outputs": [
    {
     "name": "stdout",
     "output_type": "stream",
     "text": [
      "enter five number99\n",
      "109\n",
      "990\n",
      "89\n",
      "9.9\n"
     ]
    }
   ],
   "source": [
    "string=input(\"enter five number\")\n",
    "num=int(string)\n",
    "\n",
    "addition=num + 10\n",
    "multi=num*10          ################################################\n",
    "sub=num-10\n",
    "div=num/10\n",
    "\n",
    "print(addition)\n",
    "print(multi)\n",
    "print(sub)\n",
    "print(div)\n"
   ]
  },
  {
   "cell_type": "markdown",
   "id": "fba33de6",
   "metadata": {},
   "source": [
    "### 3. Write a program that takes a float number as input, converts it into an integer, and then printsthe integer."
   ]
  },
  {
   "cell_type": "code",
   "execution_count": 10,
   "id": "bd6c7637",
   "metadata": {
    "scrolled": true
   },
   "outputs": [
    {
     "name": "stdout",
     "output_type": "stream",
     "text": [
      "enter a float number99.2\n",
      "99\n"
     ]
    }
   ],
   "source": [
    "a=float(input('enter a float number'))\n",
    "num=int(a)                                 #################################\n",
    "print(num)      "
   ]
  },
  {
   "cell_type": "markdown",
   "id": "1ca1e183",
   "metadata": {},
   "source": [
    "### 4. Write a program that takes two integers as input, divides them using the integer divisionoperator (//), converts the result into a float, and prints the float.\n"
   ]
  },
  {
   "cell_type": "code",
   "execution_count": 14,
   "id": "7080204d",
   "metadata": {},
   "outputs": [
    {
     "name": "stdout",
     "output_type": "stream",
     "text": [
      "enter a first number2\n",
      "enter a second number2\n",
      "1\n",
      "1.0\n"
     ]
    }
   ],
   "source": [
    "a=int(input('enter a first number'))\n",
    "b=int(input('enter a second number'))\n",
    "\n",
    "num=a//b\n",
    "num2=float(num)\n",
    "print(num)\n",
    "print(num2)\n",
    "\n",
    "\n",
    "\n",
    "\n"
   ]
  },
  {
   "cell_type": "markdown",
   "id": "75d0a33f",
   "metadata": {},
   "source": [
    "### 5. Write a program that takes a comma-separated string of numbers as input, converts it into a listMof integers, and then calculates and prints the sum of the list.\n"
   ]
  },
  {
   "cell_type": "code",
   "execution_count": 11,
   "id": "2bffcb67",
   "metadata": {
    "scrolled": false
   },
   "outputs": [
    {
     "name": "stdout",
     "output_type": "stream",
     "text": [
      "enter a numbers1,2,3\n",
      "['1', '2', '3']\n",
      "[1, 2, 3]\n"
     ]
    },
    {
     "data": {
      "text/plain": [
       "6"
      ]
     },
     "execution_count": 11,
     "metadata": {},
     "output_type": "execute_result"
    }
   ],
   "source": [
    " \n",
    "sum(l)\n",
    "# addition=sum(m)\n",
    "# print(addition)"
   ]
  },
  {
   "cell_type": "markdown",
   "id": "bc580dd1",
   "metadata": {},
   "source": [
    "### 6. Write a program that takes a list of strings as input, converts the list into a single string byconcatenating the elements with a space, and then prints the resulting string.\n"
   ]
  },
  {
   "cell_type": "code",
   "execution_count": 1,
   "id": "9d234ae2",
   "metadata": {},
   "outputs": [
    {
     "name": "stdout",
     "output_type": "stream",
     "text": [
      "[\"kunal\",\"wani\"]\n",
      "[\"kunal\" \"wani\"]\n"
     ]
    }
   ],
   "source": [
    "s=input()\n",
    "s1=s.split(\",\")\n",
    "print(\" \".join(s1))\n"
   ]
  },
  {
   "cell_type": "markdown",
   "id": "bb665525",
   "metadata": {},
   "source": [
    "### 7. Write a program that takes a string (\"True\" or \"False\") as input, converts it into a boolean value,and then prints whether it's True or False."
   ]
  },
  {
   "cell_type": "code",
   "execution_count": 22,
   "id": "46d18683",
   "metadata": {},
   "outputs": [
    {
     "name": "stdout",
     "output_type": "stream",
     "text": [
      "enter True or Falsetrue\n",
      "True\n"
     ]
    }
   ],
   "source": [
    "a=input(\"enter True or False\").title()\n",
    "condition=bool(a)\n",
    "print(condition)"
   ]
  },
  {
   "cell_type": "markdown",
   "id": "1d7bf044",
   "metadata": {},
   "source": [
    "### 8. Write a program that takes a float number as input, converts it into a string with exactly twodecimal places, and then prints the resulting string."
   ]
  },
  {
   "cell_type": "code",
   "execution_count": 23,
   "id": "24c5bdc7",
   "metadata": {},
   "outputs": [
    {
     "name": "stdout",
     "output_type": "stream",
     "text": [
      "enter a number9. Write a program that takes an integer as input, converts it into a float, performs some arithmetic operations involving both integers and floats, and prints the results.\n"
     ]
    },
    {
     "ename": "ValueError",
     "evalue": "could not convert string to float: '9. Write a program that takes an integer as input, converts it into a float, performs some arithmetic operations involving both integers and floats, and prints the results.'",
     "output_type": "error",
     "traceback": [
      "\u001b[1;31m---------------------------------------------------------------------------\u001b[0m",
      "\u001b[1;31mValueError\u001b[0m                                Traceback (most recent call last)",
      "Cell \u001b[1;32mIn[23], line 1\u001b[0m\n\u001b[1;32m----> 1\u001b[0m a\u001b[38;5;241m=\u001b[39m\u001b[38;5;28mfloat\u001b[39m(\u001b[38;5;28minput\u001b[39m(\u001b[38;5;124m\"\u001b[39m\u001b[38;5;124menter a number\u001b[39m\u001b[38;5;124m\"\u001b[39m))\n",
      "\u001b[1;31mValueError\u001b[0m: could not convert string to float: '9. Write a program that takes an integer as input, converts it into a float, performs some arithmetic operations involving both integers and floats, and prints the results.'"
     ]
    }
   ],
   "source": [
    "a=float(input(\"enter a number\"))"
   ]
  },
  {
   "cell_type": "markdown",
   "id": "9de33171",
   "metadata": {},
   "source": [
    "### 9. Write a program that takes an integer as input, converts it into a float, performs some arithmeticoperations involving both integers and floats, and prints the results."
   ]
  },
  {
   "cell_type": "code",
   "execution_count": 6,
   "id": "3e1a49b6",
   "metadata": {},
   "outputs": [
    {
     "name": "stdout",
     "output_type": "stream",
     "text": [
      "enter a number100.5\n",
      "110.5\n",
      "90.5\n",
      "1005.0\n",
      "10.05\n"
     ]
    }
   ],
   "source": [
    "num=eval(input('enter a number'))\n",
    "num2=float(num)\n",
    "\n",
    "addition=num+10\n",
    "sub=num-10\n",
    "multi=num*10\n",
    "divide=num/10\n",
    "\n",
    "print(addition)\n",
    "print(sub)\n",
    "print(multi)\n",
    "print(divide)"
   ]
  },
  {
   "cell_type": "markdown",
   "id": "6bd45d1b",
   "metadata": {},
   "source": [
    "### 10. Write a program that takes user input as a string and tries to convert it into an integer. Handleany ValueError that might occur due to incorrect input.\n"
   ]
  },
  {
   "cell_type": "code",
   "execution_count": 33,
   "id": "b4e265b5",
   "metadata": {},
   "outputs": [
    {
     "name": "stdout",
     "output_type": "stream",
     "text": [
      "write something8\n",
      "8\n"
     ]
    }
   ],
   "source": [
    "a=input('write something')\n",
    "anyt=int(a)\n",
    "print(anyt)"
   ]
  },
  {
   "cell_type": "markdown",
   "id": "e7091b8c",
   "metadata": {},
   "source": [
    "### 11. Write a program that takes a list of strings as input and converts each string into an integer.Then, calculate and print the sum of all the integers in the list."
   ]
  },
  {
   "cell_type": "code",
   "execution_count": null,
   "id": "7acdfe1d",
   "metadata": {},
   "outputs": [],
   "source": [
    "a=list(input())\n"
   ]
  }
 ],
 "metadata": {
  "kernelspec": {
   "display_name": "Python 3 (ipykernel)",
   "language": "python",
   "name": "python3"
  },
  "language_info": {
   "codemirror_mode": {
    "name": "ipython",
    "version": 3
   },
   "file_extension": ".py",
   "mimetype": "text/x-python",
   "name": "python",
   "nbconvert_exporter": "python",
   "pygments_lexer": "ipython3",
   "version": "3.11.5"
  }
 },
 "nbformat": 4,
 "nbformat_minor": 5
}
