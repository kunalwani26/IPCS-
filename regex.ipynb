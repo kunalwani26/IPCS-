{
 "cells": [
  {
   "cell_type": "code",
   "execution_count": 1,
   "id": "7e8bfdaf",
   "metadata": {},
   "outputs": [
    {
     "name": "stdout",
     "output_type": "stream",
     "text": [
      "Defaulting to user installation because normal site-packages is not writeable\n",
      "Note: you may need to restart the kernel to use updated packages.\n"
     ]
    },
    {
     "name": "stderr",
     "output_type": "stream",
     "text": [
      "ERROR: Could not find a version that satisfies the requirement re (from versions: none)\n",
      "ERROR: No matching distribution found for re\n"
     ]
    }
   ],
   "source": [
    "pip install re"
   ]
  },
  {
   "cell_type": "code",
   "execution_count": 3,
   "id": "55cc039c",
   "metadata": {},
   "outputs": [
    {
     "name": "stdout",
     "output_type": "stream",
     "text": [
      "['9988776655', '7788776648']\n",
      "['4444 5555 6666', '7898 4568 7988']\n",
      "['viratkohli@gmail.com', 'sarthak@gmail.co.in', 'chetana_123@gmail.com', 'kunal.123@gmail.com']\n",
      "['30-05-2022', '01.02.2024', '01/12/15', '13/12/2023']\n",
      "['Mobile Number', 'Mobile Number', 'Mobile Number']\n"
     ]
    }
   ],
   "source": [
    "import re\n",
    "text = \"\"\"My Mobile Number is : 9988776655,\n",
    "        email id is : viratkohli@gmail.com\n",
    "        todays date is : 30-05-2022 01.02.2024\n",
    "        date=01/12/15   \n",
    "        date=13/12/2023\n",
    "        4444 5555 6666\n",
    "        7898 4568 7988\n",
    "        sarthak@gmail.co.in\n",
    "        chetana_123@gmail.com\n",
    "         kunal.123@gmail.com\n",
    "        \n",
    "        Mobile Number is : 7788776648\n",
    "        Mobile Number is : 77887766\n",
    "        \"\"\"\n",
    "mob=re.findall(\"[0-9]{10}\",text)\n",
    "print(mob)\n",
    "\n",
    "aadharno=re.findall(\"[0-9]{4}[ ][0-9]{4}[ ][0-9]{4}\",text)\n",
    "print(aadharno)\n",
    "\n",
    "email=re.findall(\"[a-z0-9_.]{2,20}[@][a-z.]{2,20}\",text)\n",
    "print(email)\n",
    "\n",
    "dates=re.findall(\"[0-9]{2}[/.-][0-9]{2}[/.-][0-9.]{2,4}\",text)\n",
    "print(dates)\n",
    "\n",
    "text1=re.findall(\"[A-Z]{1}[a-z]{5}[ ][A-Z]{1}[a-z]{5}\",text)\n",
    "print(text1)"
   ]
  },
  {
   "cell_type": "code",
   "execution_count": 21,
   "id": "5ca3ca01",
   "metadata": {},
   "outputs": [
    {
     "name": "stdout",
     "output_type": "stream",
     "text": [
      "['viratkohli@gmail.com', 'sarthak@gmail.co.in', 'chetana_123@gmail.com', 'kunal.123@gmail.com', 'ritesh-123@gmail.co.in']\n"
     ]
    }
   ],
   "source": [
    "import re\n",
    "text = \"\"\"My Mobile Number is : 9988776655,\n",
    "        email id is : viratkohli@gmail.com\n",
    "        todays date is : 30-05-2022 01.02.2024 01/12/15 \n",
    "        date=13/12/2023\n",
    "        4444 5555 6666\n",
    "        7898 4568 7988\n",
    "        sarthak@gmail.co.in\n",
    "        chetana_123@gmail.com\n",
    "         kunal.123@gmail.com\n",
    "         ritesh-123@gmail.co.in\n",
    "        \n",
    "        Mobile Number is : 7788776648\n",
    "        Mobile Number is : 77887766\n",
    "        \"\"\"\n",
    "# mobile=re.findall(\"\\d{10}\",text) \n",
    "# print(mobile)\n",
    "\n",
    "# aadhar=re.findall(\"\\d{4}\\s\\d{4}\\s\\d{4}\",text)\n",
    "# print(aadhar)\n",
    "\n",
    "# email=re.findall(\"\\w{2,20}[@]\\w{2,20}[a-z.]{2,20}\",text)\n",
    "# print(email)\n",
    "\n",
    "# emailpattern2=re.findall(\"[\\w\\.\\-_]+@[a-zA-z\\.-]+\\.[a-zA-z]{2,3}\",text)\n",
    "# print(emailpattern2)\n",
    "\n",
    "emailpattern3=re.findall(\"[\\w\\.\\-_]+@[a-z\\.-]+\\.\\w{2,3}\",text)\n",
    "print(emailpattern3)\n",
    "\n",
    "# dates=re.findall(\"\\d{2}\\W\\d{2}\\W\\d{2,4}\",text)\n",
    "# print(dates)\n",
    "\n",
    "# text1=re.findall(\"\\D{1}[a-z]{5}[ ]\\D{1}[a-z]{5}\",text)\n",
    "# print(text1)\n",
    "\n",
    "# myemail=re.findall(\"\\w{2,20}\\.\\d[@]\\w{2,20}\\.\\w{2,3}\",text)\n",
    "# print(myemail)"
   ]
  },
  {
   "cell_type": "code",
   "execution_count": null,
   "id": "f0d6c1ea",
   "metadata": {},
   "outputs": [],
   "source": []
  },
  {
   "cell_type": "code",
   "execution_count": 41,
   "id": "397a3bc4",
   "metadata": {},
   "outputs": [
    {
     "name": "stdout",
     "output_type": "stream",
     "text": [
      "['AXCPS8626T']\n"
     ]
    }
   ],
   "source": [
    "import re\n",
    "text1 = \"\"\" Name: Vishal Vijay Tandel.\n",
    "           PAN Number: AXCPS8626T\n",
    "           Mobile Number : 8412835885\n",
    "           DOB: 17/11/1996,17-11-1996\n",
    "           Email id: vishaltandel19@gmail.com\n",
    "           aadhar number = 3456 1232 9876\n",
    "         \"\"\"\n",
    "pan_number=re.findall(\"\\D{5}\\d{4}[A-Z]{1}\",text1)\n",
    "print(pan_number)"
   ]
  },
  {
   "cell_type": "code",
   "execution_count": null,
   "id": "7024f8af",
   "metadata": {},
   "outputs": [],
   "source": []
  },
  {
   "cell_type": "code",
   "execution_count": 47,
   "id": "576e81e7",
   "metadata": {},
   "outputs": [
    {
     "name": "stdout",
     "output_type": "stream",
     "text": [
      "['AXCPT8626T', 'POIUY3456Y', 'SDFGH6789Q', 'AWEDF4567T', 'PLMNK9870T', 'QSDFT4567Q']\n",
      "['AXCPT8626T', 'AWEDF4567T']\n"
     ]
    }
   ],
   "source": [
    "import re\n",
    "text = \"\"\" \n",
    "           PAN Number:   AXCPT8626T           # Valid\n",
    "           PAN NUmber2 : ERTYUPOIUY3456YQWE   # Invalid\n",
    "           LKJHG67890W                        # Invalid\n",
    "           ASDFGH6789QWERT                    # Invalid\n",
    "           AWEDF4567T                         # valid\n",
    "           WERTPLMNK9870T                     # Invalid\n",
    "           QSDFT4567QWERTYUIO                 # Invalid\n",
    "           \"\"\"\n",
    "pan=re.findall(\"\\D{5}\\d{4}\\D{1}\",text)\n",
    "print(pan)\n",
    "panno=re.findall(r'\\b\\D{5}\\d{4}\\D{1}\\b',text )\n",
    "print(panno)"
   ]
  },
  {
   "cell_type": "code",
   "execution_count": 51,
   "id": "78d139a2",
   "metadata": {},
   "outputs": [
    {
     "name": "stdout",
     "output_type": "stream",
     "text": [
      "Data science is a field of\n",
      "inquiry devoted to understanding 23, Data science\n"
     ]
    }
   ],
   "source": [
    "import re\n",
    "string = '''Machine learning is a field of\n",
    "inquiry devoted to understanding 23, Ahjjigy tyrfdsee'''\n",
    "s=re.sub(\"\\D{1}[a-z]{6}\\s[a-z]{8}\",\"Data science\",string)\n",
    "print(s)"
   ]
  },
  {
   "cell_type": "code",
   "execution_count": 63,
   "id": "01755896",
   "metadata": {},
   "outputs": [
    {
     "name": "stdout",
     "output_type": "stream",
     "text": [
      "<re.Match object; span=(0, 28), match='1098765446 datary 30-12-2023'>\n",
      "found: 1098765446 datary 30-12-2023\n"
     ]
    }
   ],
   "source": [
    "import re\n",
    "text = \"\"\"1098765446 datary 30-12-2023\n",
    "          887654443\n",
    "          \n",
    "          \n",
    "            \n",
    "            8876544435\n",
    "\"\"\"\n",
    "\n",
    "numbers=re.search('(\\d{10})(\\s\\D{4,6})(\\s\\d{2}[-]\\d{2}[-]\\d{4})',text)\n",
    "print (numbers)\n",
    "if numbers:\n",
    "    print(\"found:\",numbers.group())"
   ]
  },
  {
   "cell_type": "code",
   "execution_count": 70,
   "id": "b2b413f3",
   "metadata": {},
   "outputs": [
    {
     "name": "stdout",
     "output_type": "stream",
     "text": [
      "<re.Match object; span=(0, 28), match='1098765446 datary 30-12-2023'>\n",
      "found: 1098765446 datary 30-12-2023\n"
     ]
    }
   ],
   "source": [
    "import re\n",
    "pattern=('(\\d{10}\\s)(\\D{6}\\s)(\\d{2}\\-\\d{2}\\-\\d{4})')\n",
    "text = \"\"\"1098765446 datary 30-12-2023\n",
    "          887654443\n",
    "          \n",
    "          \n",
    "            \n",
    "            8876544435\n",
    "\"\"\"\n",
    "want=re.search(pattern,text)\n",
    "print(want)\n",
    "if want:\n",
    "    print(\"found:\",want.group())"
   ]
  },
  {
   "cell_type": "code",
   "execution_count": 72,
   "id": "7ae8ee7f",
   "metadata": {},
   "outputs": [
    {
     "data": {
      "text/plain": [
       "['python ', ' and 5 data 7 science']"
      ]
     },
     "execution_count": 72,
     "metadata": {},
     "output_type": "execute_result"
    }
   ],
   "source": [
    "string = 'python 1 and 5 data 7 science'\n",
    "string.split('1')"
   ]
  },
  {
   "cell_type": "code",
   "execution_count": 74,
   "id": "1c301301",
   "metadata": {},
   "outputs": [
    {
     "data": {
      "text/plain": [
       "['python 1 and', 'data 7 science']"
      ]
     },
     "execution_count": 74,
     "metadata": {},
     "output_type": "execute_result"
    }
   ],
   "source": [
    "string = 'python 1 and 5 data 7 science'\n",
    "string.split(\" 5 \")"
   ]
  },
  {
   "cell_type": "code",
   "execution_count": 78,
   "id": "3feb834d",
   "metadata": {},
   "outputs": [
    {
     "data": {
      "text/plain": [
       "['python', '1', 'and', '5', 'data', '7', 'science']"
      ]
     },
     "execution_count": 78,
     "metadata": {},
     "output_type": "execute_result"
    }
   ],
   "source": [
    "string = 'python 1 and 5 data 7 science'\n",
    "string.split(\" \")"
   ]
  },
  {
   "cell_type": "code",
   "execution_count": 1,
   "id": "1a6be13e",
   "metadata": {},
   "outputs": [],
   "source": [
    "exit()"
   ]
  },
  {
   "cell_type": "code",
   "execution_count": 3,
   "id": "fadd55fe",
   "metadata": {},
   "outputs": [
    {
     "data": {
      "text/plain": [
       "['python ', ' and 5 data 7 science']"
      ]
     },
     "execution_count": 3,
     "metadata": {},
     "output_type": "execute_result"
    }
   ],
   "source": [
    "string = 'python 1 and 5 data 7 science'\n",
    "string.split(\"1\")"
   ]
  },
  {
   "cell_type": "code",
   "execution_count": 4,
   "id": "aced6c46",
   "metadata": {},
   "outputs": [
    {
     "ename": "SyntaxError",
     "evalue": "invalid syntax (675004342.py, line 1)",
     "output_type": "error",
     "traceback": [
      "\u001b[1;36m  Cell \u001b[1;32mIn[4], line 1\u001b[1;36m\u001b[0m\n\u001b[1;33m    exit(import re())\u001b[0m\n\u001b[1;37m         ^\u001b[0m\n\u001b[1;31mSyntaxError\u001b[0m\u001b[1;31m:\u001b[0m invalid syntax\n"
     ]
    }
   ],
   "source": []
  },
  {
   "cell_type": "code",
   "execution_count": 3,
   "id": "853a4842",
   "metadata": {},
   "outputs": [
    {
     "name": "stdout",
     "output_type": "stream",
     "text": [
      "[' ', ' ', 'D', 'O', 'B', ':', ' ', '/', '/', '\\n', ' ', ' ', ' ', ' ', ' ', ' ', ' ', ' ', ' ', ' ', ' ', 'E', 'm', 'a', 'i', 'l', ' ', 'i', 'd', ':', ' ', 'v', 'i', 's', 'h', 'a', 'l', 't', 'a', 'n', 'd', 'e', 'l', '@', 'g', 'm', 'a', 'i', 'l', '.', 'c', 'o', 'm', '\\n', ' ', ' ', ' ', ' ', ' ', ' ', ' ', ' ', ' ', ' ', ' ', 'a', 'a', 'd', 'h', 'a', 'r', ' ', 'n', 'u', 'm', 'b', 'e', 'r', ' ', '=', ' ', ' ', ' ']\n"
     ]
    }
   ],
   "source": [
    "import re\n",
    "text=\"\"\"  DOB: 17/11/1996\n",
    "           Email id: vishaltandel19@gmail.com\n",
    "           aadhar number = 3456 1232 9876\"\"\"\n",
    "x=re.findall(\"\\D\",text)\n",
    "print(x)"
   ]
  },
  {
   "cell_type": "code",
   "execution_count": 4,
   "id": "8b91b75d",
   "metadata": {},
   "outputs": [
    {
     "name": "stdout",
     "output_type": "stream",
     "text": [
      "['Machi', 'ne le', 'arnin', 'g is ', 'a fie', 'ld of', ' inqu', 'iry d', 'evote', 'd to ', 'under', 'stand', 'ing a', 'nd bu', 'ildin', 'g\\nmet', 'hods ', 'that ', \"'lear\", \"n', t\", 'hat i', 's, me', 'thods', ' that', ' leve', 'rage ', 'data ', 'to im', 'prove', ' perf', 'orman', 'ce on', ' some', ' \\nset', ' of t', 'asks.', ' It i', 's see', 'n as ', 'a par', 't of ', 'artif', 'icial', ' inte', 'llige']\n"
     ]
    }
   ],
   "source": [
    "import re\n",
    "text = \"\"\"Machine learning is a field of inquiry devoted to understanding and building\n",
    "methods that 'learn', that is, methods that leverage data to improve performance on some \n",
    "set of tasks. It is seen as a part of artificial intelligence\"\"\"\n",
    "x=re.findall(\"\\D{5}\",text)\n",
    "print(x)"
   ]
  },
  {
   "cell_type": "code",
   "execution_count": 8,
   "id": "59aa4567",
   "metadata": {},
   "outputs": [
    {
     "name": "stdout",
     "output_type": "stream",
     "text": [
      "Machine   learning is a field of inquiry devoted to understanding  \n"
     ]
    }
   ],
   "source": [
    "import re\n",
    "string = \"Machine 1234 5678 learning is a field of inquiry devoted to understanding 23 \"\n",
    "result=re.sub(\"\\d\",\"\",string)\n",
    "print(result)"
   ]
  },
  {
   "cell_type": "code",
   "execution_count": 11,
   "id": "78a2732e",
   "metadata": {},
   "outputs": [
    {
     "name": "stdout",
     "output_type": "stream",
     "text": [
      "<re.Match object; span=(0, 19), match='Numbers887654443234'>\n",
      "Numbers887654443234\n",
      "0\n",
      "19\n"
     ]
    }
   ],
   "source": [
    "import re\n",
    "string = \"\"\"Numbers8876544432343 : \n",
    "            987654432\n",
    "            \n",
    "            8876544\n",
    "            8876544455\n",
    "            8975760251122\"\"\"\n",
    "num=re.match('(\\D{7})(\\d{12})',string)\n",
    "print(num)\n",
    "if num:\n",
    "    print(num.group())\n",
    "    print(num.start())\n",
    "    print(num.end())"
   ]
  },
  {
   "cell_type": "code",
   "execution_count": 12,
   "id": "fece7521",
   "metadata": {},
   "outputs": [
    {
     "name": "stdout",
     "output_type": "stream",
     "text": [
      "<re.Match object; span=(0, 19), match='Numbers887654443234'>\n",
      "Numbers887654443234\n",
      "0\n",
      "19\n"
     ]
    }
   ],
   "source": [
    "import re\n",
    "string = \"\"\"Numbers8876544432343 : \n",
    "            987654432\n",
    "            \n",
    "            8876544\n",
    "            8876544455\n",
    "            8975760251122\"\"\"\n",
    "num=re.search('(\\D{7})(\\d{12})',string)\n",
    "print(num)\n",
    "if num:\n",
    "    print(num.group())\n",
    "    print(num.start())\n",
    "    print(num.end())"
   ]
  },
  {
   "cell_type": "code",
   "execution_count": 14,
   "id": "85919976",
   "metadata": {},
   "outputs": [
    {
     "name": "stdout",
     "output_type": "stream",
     "text": [
      "['Science', 'Science']\n"
     ]
    }
   ],
   "source": [
    "string = \"\"\"@data Science\n",
    "            8876544432 Science\"\"\"\n",
    "x=re.findall(\"Science\",string)\n",
    "print(x)\n"
   ]
  },
  {
   "cell_type": "code",
   "execution_count": 19,
   "id": "b8ef0c48",
   "metadata": {},
   "outputs": [
    {
     "name": "stdout",
     "output_type": "stream",
     "text": [
      "<re.Match object; span=(6, 13), match='Science'>\n",
      "Science\n",
      "6\n",
      "13\n"
     ]
    }
   ],
   "source": [
    "string = \"\"\"@data Science\n",
    "            8876544432 Science\"\"\"\n",
    "x=re.search(\"Science\",string)\n",
    "print(x)\n",
    "if x:\n",
    "    print(x.group())\n",
    "    print(x.start())\n",
    "    print(x.end())"
   ]
  },
  {
   "cell_type": "code",
   "execution_count": 30,
   "id": "e447841e",
   "metadata": {},
   "outputs": [
    {
     "name": "stdout",
     "output_type": "stream",
     "text": [
      " 887654443\n"
     ]
    }
   ],
   "source": [
    "import re\n",
    "text = \"\"\"109876544 887654443\n",
    "          \n",
    "            data\n",
    "            8876544435\n",
    "\"\"\"\n",
    "numbers=re.match(\"(\\d{9})(\\s\\d{9})\",text)\n",
    "if numbers:\n",
    "      print(numbers.group(2))"
   ]
  },
  {
   "cell_type": "code",
   "execution_count": 31,
   "id": "2b114daf",
   "metadata": {},
   "outputs": [
    {
     "name": "stdout",
     "output_type": "stream",
     "text": [
      "Data science is an interdisciplinary field that uses scientific methods, processes, algorithms and systems to extract knowledge and insights from noisy, structured and unstructured data, and apply knowledge from data across a broad range of application domains\n"
     ]
    }
   ],
   "source": [
    "import re\n",
    "text = \"\"\"Data science is an         interdisciplinary field that uses scientific methods,\n",
    "processes,          algorithms and systems to extract knowledge and insights from noisy, \n",
    "structured and unstructured data,           and apply knowledge from data across a broad \n",
    "range of        application domains\"\"\"\n",
    "x=re.sub(\"\\s+\",\" \",text)\n",
    "print(x)"
   ]
  },
  {
   "cell_type": "code",
   "execution_count": 33,
   "id": "bf9b052f",
   "metadata": {},
   "outputs": [
    {
     "name": "stdout",
     "output_type": "stream",
     "text": [
      "['python', 'python']\n"
     ]
    }
   ],
   "source": [
    "string = 'python and data science  pythhhon   pytttthon   python   pythhon'\n",
    "x=re.findall(\"python\",string)\n",
    "print(x)"
   ]
  },
  {
   "cell_type": "code",
   "execution_count": 34,
   "id": "bf7e087d",
   "metadata": {},
   "outputs": [
    {
     "name": "stdout",
     "output_type": "stream",
     "text": [
      "['python', 'pythhhon', 'python', 'pythhon']\n"
     ]
    }
   ],
   "source": [
    "import re\n",
    "string = 'python and data science  pythhhon   pytttthon   python   pythhon'\n",
    "x=re.findall(\"pyth+on\",string)\n",
    "print(x)"
   ]
  },
  {
   "cell_type": "code",
   "execution_count": 35,
   "id": "53650b69",
   "metadata": {},
   "outputs": [
    {
     "data": {
      "text/plain": [
       "['python', 'pythhhon', 'pytttthon', 'python', 'pythhon']"
      ]
     },
     "execution_count": 35,
     "metadata": {},
     "output_type": "execute_result"
    }
   ],
   "source": [
    "import re\n",
    "string = 'python and data science  pythhhon   pytttthon   python   pythhon'\n",
    "x=re.findall(\"pyt+h+o+n\",string)\n",
    "x"
   ]
  },
  {
   "cell_type": "code",
   "execution_count": 37,
   "id": "022138e6",
   "metadata": {},
   "outputs": [
    {
     "name": "stdout",
     "output_type": "stream",
     "text": [
      "Data science is an interdisciplinary field that uses scientific methods processes algorithms and systems to extract knowledge and insights from noisy structured and unstructured data and apply knowledge from data across a broad range of application domains \n"
     ]
    }
   ],
   "source": [
    "import re\n",
    "text = \"\"\"Data @ science is $%&* an         interdisciplinary field that uses scientific \n",
    "methods, processes,    23456789      algorithms and systems to extract knowledge and insights from noisy, \n",
    "structured and unstructured data,           and apply knowledge from data across a broad \n",
    "range of        application domains #$%^&* \"\"\"\n",
    "text=re.sub('[^a-zA-Z]+',' ',text)\n",
    "print(text)"
   ]
  },
  {
   "cell_type": "code",
   "execution_count": 39,
   "id": "b430f399",
   "metadata": {},
   "outputs": [
    {
     "name": "stdout",
     "output_type": "stream",
     "text": [
      "Data science is an interdisciplinary field that uses scientific methods processes 23456789 algorithms and systems to extract knowledge and insights from noisy structured and unstructured data and apply knowledge from data across a broad range of application domains \n"
     ]
    }
   ],
   "source": [
    "import re\n",
    "text = \"\"\"Data @ science is $%&* an         interdisciplinary field that uses scientific \n",
    "methods, processes,    23456789      algorithms and systems to extract knowledge and insights from noisy, \n",
    "structured and unstructured data,           and apply knowledge from data across a broad \n",
    "range of        application domains #$%^&* \"\"\"\n",
    "x=re.sub(\"[^a-zA-Z0-9]+\",\" \",text)\n",
    "print(x)"
   ]
  },
  {
   "cell_type": "code",
   "execution_count": 40,
   "id": "ffdac18d",
   "metadata": {},
   "outputs": [
    {
     "name": "stdout",
     "output_type": "stream",
     "text": [
      "Data science is an interdisciplinary field that uses scientific methods processes 23456789 algorithms and systems to extract knowledge and insights from noisy structured and unstructured data and apply knowledge from data across a broad range of application domains \n"
     ]
    }
   ],
   "source": [
    "import re\n",
    "text = \"\"\"Data @ science is $%&* an         interdisciplinary field that uses scientific \n",
    "methods, processes,    23456789      algorithms and systems to extract knowledge and insights from noisy, \n",
    "structured and unstructured data,           and apply knowledge from data across a broad \n",
    "range of        application domains #$%^&* \"\"\"\n",
    "x=re.sub(\"\\W+\",\" \",text)\n",
    "print(x)"
   ]
  },
  {
   "cell_type": "code",
   "execution_count": 41,
   "id": "11f05cf1",
   "metadata": {},
   "outputs": [
    {
     "name": "stdout",
     "output_type": "stream",
     "text": [
      "Data science is an interdisciplinary field that uses scientific methods processes 23456789 algorithms and systems to extract knowledge and insights from noisy structured and unstructured data and apply knowledge from data across a broad range of application domains \n"
     ]
    }
   ],
   "source": [
    "import re\n",
    "text = \"\"\"Data @ science is $%&* an         interdisciplinary field that uses scientific \n",
    "methods, processes,    23456789      algorithms and systems to extract knowledge and insights from noisy, \n",
    "structured and unstructured data,           and apply knowledge from data across a broad \n",
    "range of        application domains #$%^&* \"\"\"\n",
    "x=re.sub(\"[^\\w]+\",\" \",text)\n",
    "print(x)"
   ]
  },
  {
   "cell_type": "code",
   "execution_count": 43,
   "id": "37a5af04",
   "metadata": {},
   "outputs": [
    {
     "data": {
      "text/plain": [
       "['p']"
      ]
     },
     "execution_count": 43,
     "metadata": {},
     "output_type": "execute_result"
    }
   ],
   "source": [
    "string = 'python and data science'\n",
    "result = re.findall('p.+',string)\n",
    "result \n"
   ]
  },
  {
   "cell_type": "code",
   "execution_count": 9,
   "id": "460e1665",
   "metadata": {},
   "outputs": [
    {
     "name": "stdout",
     "output_type": "stream",
     "text": [
      "['python and data science ', 'python is very good language to understand']\n"
     ]
    }
   ],
   "source": [
    "import re\n",
    "string = '''python and data science \\n \n",
    "python is very good language to understand'''\n",
    "result=re.findall(\"p.+\",string)\n",
    "print(result)"
   ]
  },
  {
   "cell_type": "code",
   "execution_count": 15,
   "id": "22cc6d7b",
   "metadata": {},
   "outputs": [
    {
     "name": "stdout",
     "output_type": "stream",
     "text": [
      "['Science']\n"
     ]
    }
   ],
   "source": [
    "import re\n",
    "string = 'python and data Science'\n",
    "result=re.findall(\"[a-zA-Z]+$\",string)\n",
    "print(result)"
   ]
  },
  {
   "cell_type": "code",
   "execution_count": 6,
   "id": "2ffc86f1",
   "metadata": {},
   "outputs": [
    {
     "name": "stdout",
     "output_type": "stream",
     "text": [
      "['python and data science']\n"
     ]
    }
   ],
   "source": [
    "string = 'python and data science'\n",
    "result=re.findall('^p.+e$',string)\n",
    "print(result)"
   ]
  },
  {
   "cell_type": "code",
   "execution_count": 19,
   "id": "8df08122",
   "metadata": {},
   "outputs": [
    {
     "name": "stdout",
     "output_type": "stream",
     "text": [
      "['Python and data science']\n"
     ]
    }
   ],
   "source": [
    "string = 'Python and data science'\n",
    "result = re.findall('^P.+e$',string)\n",
    "print(result)"
   ]
  },
  {
   "cell_type": "code",
   "execution_count": 8,
   "id": "09940ef3",
   "metadata": {},
   "outputs": [
    {
     "data": {
      "text/plain": [
       "['python', 'pythhhon', 'pytttthon', 'python', 'pythhon', 'pyhon', 'pyhhon']"
      ]
     },
     "execution_count": 8,
     "metadata": {},
     "output_type": "execute_result"
    }
   ],
   "source": [
    "string = 'python and data science  pythhhon   pytttthon   python   pythhon pyhon pyton pyhhon'\n",
    "result = re.findall('pyt*h+on',string)\n",
    "result # python , pythhhon python pythhon pyton"
   ]
  },
  {
   "cell_type": "code",
   "execution_count": null,
   "id": "d7bcb66a",
   "metadata": {},
   "outputs": [],
   "source": []
  }
 ],
 "metadata": {
  "kernelspec": {
   "display_name": "Python 3 (ipykernel)",
   "language": "python",
   "name": "python3"
  },
  "language_info": {
   "codemirror_mode": {
    "name": "ipython",
    "version": 3
   },
   "file_extension": ".py",
   "mimetype": "text/x-python",
   "name": "python",
   "nbconvert_exporter": "python",
   "pygments_lexer": "ipython3",
   "version": "3.11.5"
  }
 },
 "nbformat": 4,
 "nbformat_minor": 5
}
