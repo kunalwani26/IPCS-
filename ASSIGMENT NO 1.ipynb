{
 "cells": [
  {
   "cell_type": "markdown",
   "id": "8525df44",
   "metadata": {},
   "source": [
    "## 1. Write a Python program to calculate the length of a string\n"
   ]
  },
  {
   "cell_type": "code",
   "execution_count": 1,
   "id": "d93b71d5",
   "metadata": {},
   "outputs": [
    {
     "name": "stdout",
     "output_type": "stream",
     "text": [
      "5\n"
     ]
    }
   ],
   "source": [
    "str=\"kunal\"\n",
    "print(len(str))\n"
   ]
  },
  {
   "cell_type": "code",
   "execution_count": null,
   "id": "32c0c540",
   "metadata": {},
   "outputs": [],
   "source": []
  },
  {
   "cell_type": "markdown",
   "id": "40b82b1f",
   "metadata": {},
   "source": [
    "## Write a Python program to find out what version of Python you are using.\n"
   ]
  },
  {
   "cell_type": "code",
   "execution_count": 20,
   "id": "e445a8ac",
   "metadata": {},
   "outputs": [
    {
     "name": "stdout",
     "output_type": "stream",
     "text": [
      "3.11.5 | packaged by Anaconda, Inc. | (main, Sep 11 2023, 13:26:23) [MSC v.1916 64 bit (AMD64)]\n",
      "Python 3.11.5\n"
     ]
    }
   ],
   "source": [
    "import sys\n",
    "print(sys.version)\n",
    "\n",
    "!python --version"
   ]
  },
  {
   "cell_type": "code",
   "execution_count": null,
   "id": "ee258672",
   "metadata": {},
   "outputs": [],
   "source": []
  },
  {
   "cell_type": "markdown",
   "id": "74ecabe9",
   "metadata": {},
   "source": [
    "## 3. Write a Python program to display the current date and time"
   ]
  },
  {
   "cell_type": "code",
   "execution_count": 15,
   "id": "191c6f3c",
   "metadata": {},
   "outputs": [
    {
     "name": "stdout",
     "output_type": "stream",
     "text": [
      "2024-02-24 10:18:26.019180\n"
     ]
    }
   ],
   "source": [
    "import datetime\n",
    "x=datetime.datetime.now()\n",
    "print(x)"
   ]
  },
  {
   "cell_type": "code",
   "execution_count": 6,
   "id": "4cce9abd",
   "metadata": {
    "scrolled": true
   },
   "outputs": [
    {
     "name": "stdout",
     "output_type": "stream",
     "text": [
      "2024-02-27 17:58:04.038535\n",
      "24-02-27 17-58-04\n"
     ]
    },
    {
     "data": {
      "text/plain": [
       "<function datetime.weekday>"
      ]
     },
     "execution_count": 6,
     "metadata": {},
     "output_type": "execute_result"
    }
   ],
   "source": [
    "\n",
    "import datetime\n",
    "from datetime import datetime\n",
    "current=datetime.now()\n",
    "print(current)\n",
    "times=current.strftime(\"%y-%m-%d %H-%M-%S\")\n",
    "print(times)\n",
    "current.year\n",
    "current.weekday"
   ]
  },
  {
   "cell_type": "markdown",
   "id": "577ef29e",
   "metadata": {},
   "source": [
    "# Write a Python program that calculates the area of a circle based on the radius entered by the user"
   ]
  },
  {
   "cell_type": "code",
   "execution_count": 30,
   "id": "c5aad8cc",
   "metadata": {},
   "outputs": [
    {
     "name": "stdout",
     "output_type": "stream",
     "text": [
      "enter the radius2\n",
      "12.56\n"
     ]
    }
   ],
   "source": [
    "radius=int(input(\"enter the radius\"))\n",
    "aoc=3.14*radius*radius\n",
    "print(aoc)"
   ]
  },
  {
   "cell_type": "markdown",
   "id": "28c2ce3d",
   "metadata": {},
   "source": [
    "# 5. Write a Python program that accepts the user's first and last name and prints them in reverse order with\n",
    "<!-- a space between them. -->"
   ]
  },
  {
   "cell_type": "code",
   "execution_count": 5,
   "id": "fe229f8b",
   "metadata": {},
   "outputs": [
    {
     "name": "stdout",
     "output_type": "stream",
     "text": [
      "enter a first name: kunal\n",
      "enter a last name: wani\n",
      "inaw lanuk\n"
     ]
    }
   ],
   "source": [
    "first_name=input('enter a first name: ')\n",
    "last_name=input('enter a last name: ')\n",
    "\n",
    "reversed_name=last_name[::-1] +\" \"+first_name[::-1]\n",
    "print(reversed_name)  "
   ]
  },
  {
   "cell_type": "markdown",
   "id": "b37cf3b5",
   "metadata": {},
   "source": [
    "# 6. How many data types are there in python? Write them"
   ]
  },
  {
   "cell_type": "code",
   "execution_count": null,
   "id": "62420a3e",
   "metadata": {},
   "outputs": [],
   "source": [
    "string\n",
    "integer\n",
    "float\n",
    "boolean\n",
    "none\n",
    "set\n",
    "dictionary\n",
    "#tuple\n",
    "list\n"
   ]
  },
  {
   "cell_type": "markdown",
   "id": "a125b1ac",
   "metadata": {},
   "source": [
    "# 7. Print the data types of given inputs"
   ]
  },
  {
   "cell_type": "code",
   "execution_count": 6,
   "id": "67f1f59f",
   "metadata": {},
   "outputs": [
    {
     "name": "stdout",
     "output_type": "stream",
     "text": [
      "<class 'str'>\n",
      "<class 'int'>\n",
      "<class 'str'>\n",
      "<class 'float'>\n",
      "<class 'str'>\n",
      "<class 'bool'>\n",
      "<class 'bool'>\n"
     ]
    }
   ],
   "source": [
    "s='I want to become Data Scientist.'\n",
    "print(type(s))\n",
    "x=123\n",
    "print(type(x))\n",
    "y='1234'\n",
    "print(type(y))\n",
    "z=1.34\n",
    "print(type(z))\n",
    "a='hello123'\n",
    "print(type(a))\n",
    "l1=True\n",
    "print(type(l1))\n",
    "l2=False\n",
    "print(type(l2))\n"
   ]
  },
  {
   "cell_type": "markdown",
   "id": "8b78d497",
   "metadata": {},
   "source": [
    "# 8. Write a python program to sum three numbers."
   ]
  },
  {
   "cell_type": "code",
   "execution_count": 7,
   "id": "680fbfea",
   "metadata": {},
   "outputs": [
    {
     "name": "stdout",
     "output_type": "stream",
     "text": [
      "99\n"
     ]
    }
   ],
   "source": [
    "a=2\n",
    "b=8\n",
    "c=89\n",
    "\n",
    "print(a+b+c)"
   ]
  },
  {
   "cell_type": "markdown",
   "id": "f6860521",
   "metadata": {},
   "source": [
    "# 19. X=890 convert the data type integer into string\n",
    "Y=”125” convert the data type string into integer\n",
    "Z=”My name is Sarthak”..can I convert the type of this string into integer? Try it ..and give reason why it\n",
    "didn’t convert the data type?\n",
    "A=235 convert the data type integer into float"
   ]
  },
  {
   "cell_type": "code",
   "execution_count": 10,
   "id": "a4277018",
   "metadata": {},
   "outputs": [
    {
     "name": "stdout",
     "output_type": "stream",
     "text": [
      "<class 'int'>\n",
      "<class 'int'>\n",
      "<class 'float'>\n"
     ]
    }
   ],
   "source": [
    "y='125'\n",
    "y=int()\n",
    "print(type(y))\n",
    "\n",
    "Z='My name is Sarthak'\n",
    "z=int()\n",
    "print(type(z))\n",
    "\n",
    "A=235\n",
    "A=float()\n",
    "print(type(A))"
   ]
  },
  {
   "cell_type": "code",
   "execution_count": 12,
   "id": "4272ad1f",
   "metadata": {},
   "outputs": [
    {
     "name": "stdout",
     "output_type": "stream",
     "text": [
      "give input2\n",
      "2.0\n"
     ]
    }
   ],
   "source": [
    "\n",
    "a=float(input('give input'))\n",
    "print(a)\n",
    "        "
   ]
  },
  {
   "cell_type": "code",
   "execution_count": null,
   "id": "3d64851e",
   "metadata": {},
   "outputs": [],
   "source": []
  }
 ],
 "metadata": {
  "kernelspec": {
   "display_name": "Python 3 (ipykernel)",
   "language": "python",
   "name": "python3"
  },
  "language_info": {
   "codemirror_mode": {
    "name": "ipython",
    "version": 3
   },
   "file_extension": ".py",
   "mimetype": "text/x-python",
   "name": "python",
   "nbconvert_exporter": "python",
   "pygments_lexer": "ipython3",
   "version": "3.11.5"
  }
 },
 "nbformat": 4,
 "nbformat_minor": 5
}
