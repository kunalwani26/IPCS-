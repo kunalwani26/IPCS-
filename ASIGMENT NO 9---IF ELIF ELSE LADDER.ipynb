{
 "cells": [
  {
   "cell_type": "markdown",
   "id": "a84dc14a",
   "metadata": {},
   "source": [
    "### 1. Write a program that checks whether a given number is positive or ne gative."
   ]
  },
  {
   "cell_type": "code",
   "execution_count": 1,
   "id": "becc822b",
   "metadata": {},
   "outputs": [
    {
     "name": "stdout",
     "output_type": "stream",
     "text": [
      "enter a number 52\n",
      "entered number is positive\n"
     ]
    }
   ],
   "source": [
    "num=float(input(\"enter a number \"))\n",
    "if num>=0:\n",
    "    print('entered number is positive')\n",
    "else:\n",
    "    print('entered number is negative')\n",
    "    "
   ]
  },
  {
   "cell_type": "markdown",
   "id": "1f058221",
   "metadata": {},
   "source": [
    "### 2. Create a program that determines if an entered number is even or odd."
   ]
  },
  {
   "cell_type": "code",
   "execution_count": 2,
   "id": "d3720c7e",
   "metadata": {},
   "outputs": [
    {
     "name": "stdout",
     "output_type": "stream",
     "text": [
      "enter a number:\n",
      "25\n",
      "it is an odd number\n"
     ]
    }
   ],
   "source": [
    "inp=int(input(\"enter a number:\\n\"))\n",
    "if inp % 2==0:\n",
    "    print(\"it is an even number\")\n",
    "else:\n",
    "    print('it is an odd number')"
   ]
  },
  {
   "cell_type": "markdown",
   "id": "8aa2713a",
   "metadata": {},
   "source": [
    "### 3. Write a program that compares two numbers and prints the larger one."
   ]
  },
  {
   "cell_type": "code",
   "execution_count": 10,
   "id": "849b3170",
   "metadata": {},
   "outputs": [
    {
     "name": "stdout",
     "output_type": "stream",
     "text": [
      "entered a number55\n",
      "entered a number45\n",
      "num1 is greater\n"
     ]
    }
   ],
   "source": [
    "num1=float(input(\"entered a number\"))\n",
    "num2=float(input(\"entered a number\"))\n",
    "if num1>num2:\n",
    "    print(\"num1 is greater\")\n",
    "else:\n",
    "    print(\"num2 is  greater\")"
   ]
  },
  {
   "cell_type": "markdown",
   "id": "f82f470d",
   "metadata": {},
   "source": [
    "### 4. Create a program that asks for the user's age and prints whether they are a child, teenager, or adult."
   ]
  },
  {
   "cell_type": "code",
   "execution_count": 19,
   "id": "ce00d1d9",
   "metadata": {},
   "outputs": [
    {
     "name": "stdout",
     "output_type": "stream",
     "text": [
      "enter a age58\n",
      "user is adult\n"
     ]
    }
   ],
   "source": [
    "age=int(input('enter a age'))\n",
    "if age <= 12:\n",
    "    print('user is child')\n",
    "elif 20>age>12:\n",
    "    print('user is teenager ')\n",
    "else:\n",
    "    print('user is adult')"
   ]
  },
  {
   "cell_type": "markdown",
   "id": "18151b66",
   "metadata": {},
   "source": [
    "### 5. Write a program that checks if a given year is a leap year"
   ]
  },
  {
   "cell_type": "code",
   "execution_count": 20,
   "id": "8c050a58",
   "metadata": {},
   "outputs": [
    {
     "name": "stdout",
     "output_type": "stream",
     "text": [
      "enter a year2024\n",
      "2024 it is a leap year\n"
     ]
    }
   ],
   "source": [
    "year=int(input('enter a year'))\n",
    "if (year%4==0 and year%100!=0)or(year%400==0):\n",
    "    print(year,'it is a leap year')\n",
    "else:\n",
    "    print(year,'it is not a leap year')"
   ]
  },
  {
   "cell_type": "code",
   "execution_count": 21,
   "id": "22dfcf4e",
   "metadata": {},
   "outputs": [
    {
     "name": "stdout",
     "output_type": "stream",
     "text": [
      "0\n"
     ]
    }
   ],
   "source": [
    "a=2024%4\n",
    "print(a)"
   ]
  },
  {
   "cell_type": "markdown",
   "id": "030c576a",
   "metadata": {},
   "source": [
    "### 6. Create a program that takes two numbers as input and prints whether theyare equal or different"
   ]
  },
  {
   "cell_type": "code",
   "execution_count": 32,
   "id": "35ff6cee",
   "metadata": {},
   "outputs": [
    {
     "name": "stdout",
     "output_type": "stream",
     "text": [
      "enter a first number5\n",
      "enter a second number5\n",
      "5.0 5.0 they are equal\n"
     ]
    }
   ],
   "source": [
    "num1=float(input(\"enter a first number\"))\n",
    "num2=float(input(\"enter a second number\"))\n",
    "\n",
    "if num1==num2:\n",
    "    print(num1, num2,\"they are equal\")\n",
    "else:\n",
    "    print(num1, num2,'they are not equal')"
   ]
  },
  {
   "cell_type": "markdown",
   "id": "7eaac22a",
   "metadata": {},
   "source": [
    "### 7. Write a program that checks if a given character is a vowel or a consonant."
   ]
  },
  {
   "cell_type": "code",
   "execution_count": 44,
   "id": "88f62d4b",
   "metadata": {},
   "outputs": [
    {
     "name": "stdout",
     "output_type": "stream",
     "text": [
      "enter a alphabet:E\n",
      "e it is a vowel\n"
     ]
    }
   ],
   "source": [
    "abcd=input(\"enter a alphabet:\").lower() \n",
    "vowel=[\"a\",\"e\",\"i\",\"o\",\"u\"]\n",
    "\n",
    "if abcd in vowel:\n",
    "    print(abcd,  'it is a vowel')\n",
    "elif abcd.isalpha():\n",
    "    print('it is consonant')\n",
    "else:\n",
    "    print('invalid input')"
   ]
  },
  {
   "cell_type": "markdown",
   "id": "b341a7fc",
   "metadata": {},
   "source": [
    "### 8. Create a program that calculates the total price of items in a shopping cart.Apply a 10% discount if the total exceeds $100.\n"
   ]
  },
  {
   "cell_type": "code",
   "execution_count": 3,
   "id": "a89a9b03",
   "metadata": {},
   "outputs": [
    {
     "name": "stdout",
     "output_type": "stream",
     "text": [
      "enter a purchase amount80\n",
      "are you member Yes/Noyes\n",
      "amouunt paid after discount 76.0\n"
     ]
    }
   ],
   "source": [
    "purchase_amount=float(input(\"enter a purchase amount\"))\n",
    "is_member=input(\"are you member Yes/No\").lower()\n",
    "if is_member=='yes':\n",
    "    if purchase_amount>=100:\n",
    "        discount=0.1*purchase_amount\n",
    "    else:\n",
    "        discount=0.05*purchase_amount\n",
    "else:\n",
    "    if purchase_amount >=100:\n",
    "        discount=0.02*purchase_amount\n",
    "    else:\n",
    "        discount=0\n",
    "paid_amount=purchase_amount-discount\n",
    "print(\"amouunt paid after discount\",paid_amount)\n",
    "    "
   ]
  },
  {
   "cell_type": "markdown",
   "id": "c2436e97",
   "metadata": {},
   "source": [
    "### 9. Write a program that checks if a given number is prime."
   ]
  },
  {
   "cell_type": "code",
   "execution_count": 5,
   "id": "9f7e5b31",
   "metadata": {},
   "outputs": [
    {
     "name": "stdout",
     "output_type": "stream",
     "text": [
      "enter a number2\n",
      "it is prime number\n"
     ]
    }
   ],
   "source": [
    "num=int(input(\"enter a number\"))\n",
    "\n",
    "if num==1:\n",
    "    print(\"it is not a prime number\")\n",
    "if num>1:\n",
    "    for i in range (2,num):\n",
    "        if num%i==0:\n",
    "            print(\"it is not a prime number\")\n",
    "            break\n",
    "    else:\n",
    "        print(\"it is prime number\")\n",
    "            "
   ]
  },
  {
   "cell_type": "markdown",
   "id": "d4116ff2",
   "metadata": {},
   "source": [
    "###### 10.Create a program that calculates the BMI (Body Mass Index) based on theuser's weight and height, and then categorizes it as underweight, normalweight, overweight, or obese."
   ]
  },
  {
   "cell_type": "code",
   "execution_count": 18,
   "id": "8368ba4e",
   "metadata": {
    "scrolled": true
   },
   "outputs": [
    {
     "name": "stdout",
     "output_type": "stream",
     "text": [
      "enter a weight in kg:\n",
      "45\n",
      "enter a height in meter:\n",
      "124\n",
      "your bmi is 45.0\n",
      "you are obese:\n"
     ]
    }
   ],
   "source": [
    "weight=float(input(\"enter a weight in kg:\\n\"))\n",
    "height=float(input(\"enter a height in meter:\\n\"))\n",
    "BMI=weight/height*height\n",
    "print(\"your bmi is\",BMI)\n",
    "if BMI<18.5:\n",
    "    print(\"your are underweight:\")\n",
    "elif 18.5<=BMI<24.9:\n",
    "    print(\"your weight is normal\")\n",
    "elif 24.9<=BMI<29.9:\n",
    "    print(\"your weigt is overweight\")\n",
    "else:\n",
    "    print('you are obese:')"
   ]
  },
  {
   "cell_type": "code",
   "execution_count": null,
   "id": "7487e2de",
   "metadata": {},
   "outputs": [],
   "source": []
  }
 ],
 "metadata": {
  "kernelspec": {
   "display_name": "Python 3 (ipykernel)",
   "language": "python",
   "name": "python3"
  },
  "language_info": {
   "codemirror_mode": {
    "name": "ipython",
    "version": 3
   },
   "file_extension": ".py",
   "mimetype": "text/x-python",
   "name": "python",
   "nbconvert_exporter": "python",
   "pygments_lexer": "ipython3",
   "version": "3.11.5"
  }
 },
 "nbformat": 4,
 "nbformat_minor": 5
}
