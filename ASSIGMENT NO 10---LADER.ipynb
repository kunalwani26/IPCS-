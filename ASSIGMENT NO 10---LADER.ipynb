{
 "cells": [
  {
   "cell_type": "markdown",
   "id": "baa51dee",
   "metadata": {},
   "source": [
    "### 10.Build a program that reads a number from the user and identifies whichrange it falls into: 1-10, 11-20, 21-30, or above 30."
   ]
  },
  {
   "cell_type": "code",
   "execution_count": 4,
   "id": "556c7691",
   "metadata": {},
   "outputs": [
    {
     "name": "stdout",
     "output_type": "stream",
     "text": [
      "enter a number50\n",
      "it is above 30\n",
      "thank you\n"
     ]
    }
   ],
   "source": [
    "n=eval(input(\"enter a number\"))\n",
    "if 1<=n<=10:\n",
    "    print(\"it falls under range of:1-10\")\n",
    "elif 11<=n<=20:\n",
    "    print(\"it falls under a range:11-20\")\n",
    "elif  21<=n<=30:\n",
    "    print(\"it falls under a range:21-30\")\n",
    "else:\n",
    "    print(\"it is above 30\")\n",
    "print(\"thank you\")"
   ]
  },
  {
   "cell_type": "markdown",
   "id": "a0085fef",
   "metadata": {},
   "source": [
    "### 11.Write a program that calculates the final price of an item after applying adiscount. The discount depends on the item's original price: 10% for pricesbelow $50, and 20% for prices $50 and above."
   ]
  },
  {
   "cell_type": "code",
   "execution_count": 7,
   "id": "4994d7b7",
   "metadata": {},
   "outputs": [
    {
     "name": "stdout",
     "output_type": "stream",
     "text": [
      "enter a price47\n",
      "final price after applying discont is: 42.3\n"
     ]
    }
   ],
   "source": [
    "price=float(input(\"enter a price\"))\n",
    "\n",
    "if price<50:\n",
    "    discount=0.1*price\n",
    "elif price >=50:\n",
    "    discount=0.2*price\n",
    "\n",
    "final_price=price-discount\n",
    "print(\"final price after applying discont is:\",final_price)\n",
    "\n"
   ]
  },
  {
   "cell_type": "markdown",
   "id": "0b4638ff",
   "metadata": {},
   "source": [
    "### 13.Develop a program that checks the validity of a password. If the password isat least 8 characters long and contains both letters and numbers, it'sconsidered valid; otherwise, it's not.\n"
   ]
  },
  {
   "cell_type": "code",
   "execution_count": 14,
   "id": "bcd720df",
   "metadata": {},
   "outputs": [
    {
     "name": "stdout",
     "output_type": "stream",
     "text": [
      "enter a passwordgjgujhjh665\n",
      "your password is valid\n"
     ]
    }
   ],
   "source": [
    "code=input(\"enter a password\")\n",
    "if len(code)>=8 and code.isalnum():\n",
    "    print(\"your password is valid\")\n",
    "else:\n",
    "    print(\"your password is not valid\")\n",
    " \n",
    "\n",
    "    "
   ]
  },
  {
   "cell_type": "markdown",
   "id": "e73240f7",
   "metadata": {},
   "source": [
    "### 14.Create a program that asks the user to input a month (1-12) and thendetermines and displays the corresponding season: \"Winter,\" \"Spring,\"\"Summer,\" or \"Fall.\""
   ]
  },
  {
   "cell_type": "code",
   "execution_count": 3,
   "id": "a27a329c",
   "metadata": {},
   "outputs": [
    {
     "name": "stdout",
     "output_type": "stream",
     "text": [
      "enter a month5\n",
      "spring\n"
     ]
    }
   ],
   "source": [
    "month=int(input(\"enter a month\"))\n",
    "if month in [12,1,2]:\n",
    "    print(\"winter\")\n",
    "elif month in [3,4,5]:\n",
    "    print(\"spring\")\n",
    "elif month in [6,7,8]:\n",
    "    print(\"summer\")\n",
    "elif month in [9,10,11]:\n",
    "    print(\"fall\")\n",
    "else:\n",
    "    print(\"invalid month\")"
   ]
  },
  {
   "cell_type": "code",
   "execution_count": null,
   "id": "ebf63574",
   "metadata": {},
   "outputs": [],
   "source": []
  },
  {
   "cell_type": "code",
   "execution_count": null,
   "id": "7608ffcf",
   "metadata": {},
   "outputs": [],
   "source": []
  }
 ],
 "metadata": {
  "kernelspec": {
   "display_name": "Python 3 (ipykernel)",
   "language": "python",
   "name": "python3"
  },
  "language_info": {
   "codemirror_mode": {
    "name": "ipython",
    "version": 3
   },
   "file_extension": ".py",
   "mimetype": "text/x-python",
   "name": "python",
   "nbconvert_exporter": "python",
   "pygments_lexer": "ipython3",
   "version": "3.11.5"
  }
 },
 "nbformat": 4,
 "nbformat_minor": 5
}
