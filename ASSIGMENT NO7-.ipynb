{
 "cells": [
  {
   "cell_type": "markdown",
   "id": "c57f959c",
   "metadata": {},
   "source": [
    "### 1. Create a program that takes the base and height of a triangle as input and calculates its area (½ *base * height)."
   ]
  },
  {
   "cell_type": "code",
   "execution_count": 3,
   "id": "cf9976f8",
   "metadata": {},
   "outputs": [
    {
     "name": "stdout",
     "output_type": "stream",
     "text": [
      "enter a base25\n",
      "enter a height17.8\n",
      "222.5\n"
     ]
    }
   ],
   "source": [
    "a=float(input('enter a base'))\n",
    "b=float(input('enter a height'))\n",
    "area=1/2*a*b\n",
    "print(area)"
   ]
  },
  {
   "cell_type": "markdown",
   "id": "d196eb81",
   "metadata": {},
   "source": [
    "### 2. Write a program that takes a number as input and prints its square and cube.\n"
   ]
  },
  {
   "cell_type": "code",
   "execution_count": 3,
   "id": "beefd905",
   "metadata": {},
   "outputs": [
    {
     "name": "stdout",
     "output_type": "stream",
     "text": [
      "1.4142135623730951\n",
      "4.0\n",
      "8.0\n"
     ]
    }
   ],
   "source": [
    "import math\n",
    "num=2\n",
    "print(math.sqrt(num))\n",
    "print(math.pow(num,2))\n",
    "print(math.pow(num,3))"
   ]
  },
  {
   "cell_type": "markdown",
   "id": "e4e6cc2b",
   "metadata": {},
   "source": [
    "### 3. Write a program that simulates a simple calculator. The program should take two numbers(useinputs)and an operator (+, -, *, /) as input and perform the corresponding operation, displayingthe result."
   ]
  },
  {
   "cell_type": "code",
   "execution_count": 14,
   "id": "61775cea",
   "metadata": {},
   "outputs": [
    {
     "name": "stdout",
     "output_type": "stream",
     "text": [
      "enter first number2\n",
      "ente a second number2\n",
      "enter a operator , +, -, *, / -\n",
      "result of num1 and num2 is 0.0\n"
     ]
    }
   ],
   "source": [
    "num1=float(input(\"enter first number\"))\n",
    "num2=float(input(\"ente a second number\"))\n",
    "operator=input(\"enter a operator , +, -, *, / \")\n",
    "\n",
    "if operator =='+':\n",
    "    result=num1+num2\n",
    "elif operator == '-':\n",
    "    result=num1-num2\n",
    "elif operator == \"*\":\n",
    "    result=num1*num2\n",
    "elif operator == '/':\n",
    "    if num1 or num2==0:\n",
    "        print(\"error cant divide by zero\")\n",
    "    else:\n",
    "        result=num1/num2\n",
    "        \n",
    "else:\n",
    "    print('invalid input')\n",
    "\n",
    "\n",
    "print(\"result of num1 and num2 is\",result)    \n",
    "    "
   ]
  },
  {
   "cell_type": "markdown",
   "id": "336b643b",
   "metadata": {},
   "source": [
    "### 4. How do you concatenate two strings in Python?"
   ]
  },
  {
   "cell_type": "code",
   "execution_count": 11,
   "id": "379033e4",
   "metadata": {},
   "outputs": [
    {
     "name": "stdout",
     "output_type": "stream",
     "text": [
      "kunal om\n"
     ]
    }
   ],
   "source": [
    "a=\"kunal\"\n",
    "b=\"om\"\n",
    "concatination=a+ \" \" +b\n",
    "print(concatination)"
   ]
  },
  {
   "cell_type": "markdown",
   "id": "98ee4619",
   "metadata": {},
   "source": [
    "### 5. How can you convert an integer to a float, and vice versa?"
   ]
  },
  {
   "cell_type": "code",
   "execution_count": 15,
   "id": "78ed90d8",
   "metadata": {},
   "outputs": [
    {
     "name": "stdout",
     "output_type": "stream",
     "text": [
      "2.0\n",
      "8\n"
     ]
    }
   ],
   "source": [
    "a=2\n",
    "a=float(a)\n",
    "\n",
    "b=8.2\n",
    "b=int(b)\n",
    "print(a)\n",
    "print(b)"
   ]
  },
  {
   "cell_type": "markdown",
   "id": "816b6d59",
   "metadata": {},
   "source": [
    "### 6. Create a program that takes a string and an integer as input. Use the * operator to repeat thestring the specified number of times and print the result.\n"
   ]
  },
  {
   "cell_type": "code",
   "execution_count": 17,
   "id": "f52105a9",
   "metadata": {},
   "outputs": [
    {
     "name": "stdout",
     "output_type": "stream",
     "text": [
      "enter a stringkunal\n",
      "enter an integer5\n",
      "kunalkunalkunalkunalkunal\n"
     ]
    }
   ],
   "source": [
    "a=(input(\"enter a string\"))\n",
    "b=int(input(\"enter an integer\"))\n",
    "\n",
    "repeated= a * b\n",
    "print(repeated)\n",
    " "
   ]
  },
  {
   "cell_type": "markdown",
   "id": "56ec8f1e",
   "metadata": {},
   "source": [
    "### 7. Write a program that takes two strings as input. Use the comparison operators (==, !=, <, >, <=,>=) to compare the strings and print the results."
   ]
  },
  {
   "cell_type": "code",
   "execution_count": 24,
   "id": "3fbda868",
   "metadata": {},
   "outputs": [
    {
     "name": "stdout",
     "output_type": "stream",
     "text": [
      "true\n",
      "true\n",
      "true\n"
     ]
    }
   ],
   "source": [
    "str1=\"kunal\"\n",
    "str2=\"roshan\"\n",
    "if str1==str2:\n",
    "    print(\"true\")\n",
    "if str1!=str2:\n",
    "    print(\"true\")\n",
    "if len(str1)>len(str2):\n",
    "    print('true')\n",
    "if  len(str1)<len(str2):\n",
    "    print('true')\n",
    "if len(str1)>=len(str2):\n",
    "    print('true')\n",
    "if  len(str1)<=len(str2):\n",
    "    print('true')\n",
    "\n",
    "\n",
    "\n"
   ]
  },
  {
   "cell_type": "markdown",
   "id": "7b042507",
   "metadata": {},
   "source": [
    "### 8. Write a program that takes a string as input and calculates its length using the len() function.Print the length.\n"
   ]
  },
  {
   "cell_type": "code",
   "execution_count": 25,
   "id": "de112084",
   "metadata": {},
   "outputs": [
    {
     "name": "stdout",
     "output_type": "stream",
     "text": [
      "18\n"
     ]
    }
   ],
   "source": [
    "str=\"kunal is a student\"\n",
    "print(len(str))"
   ]
  },
  {
   "cell_type": "markdown",
   "id": "d9e10598",
   "metadata": {},
   "source": [
    "### 9. Create a program that takes a string and a character as input. Use the in and not in operators tocheck if the character is present in the string and print the result."
   ]
  },
  {
   "cell_type": "code",
   "execution_count": 27,
   "id": "9db70c84",
   "metadata": {},
   "outputs": [
    {
     "name": "stdout",
     "output_type": "stream",
     "text": [
      "enter a stringkunal\n",
      "enter a characterk\n",
      "character k is present in string kunal\n"
     ]
    }
   ],
   "source": [
    "inp1=input(\"enter a string\")\n",
    "inp2=input(\"enter a character\")\n",
    "if inp2 in inp1:\n",
    "    print(f\"character {inp2} is present in string {inp1}\")\n",
    "else:\n",
    "    print(f\"character {inp2} is not present in string {inp1}\")"
   ]
  },
  {
   "cell_type": "code",
   "execution_count": null,
   "id": "bd1bf09f",
   "metadata": {},
   "outputs": [],
   "source": []
  }
 ],
 "metadata": {
  "kernelspec": {
   "display_name": "Python 3 (ipykernel)",
   "language": "python",
   "name": "python3"
  },
  "language_info": {
   "codemirror_mode": {
    "name": "ipython",
    "version": 3
   },
   "file_extension": ".py",
   "mimetype": "text/x-python",
   "name": "python",
   "nbconvert_exporter": "python",
   "pygments_lexer": "ipython3",
   "version": "3.11.5"
  }
 },
 "nbformat": 4,
 "nbformat_minor": 5
}
