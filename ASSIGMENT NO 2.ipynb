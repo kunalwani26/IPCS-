{
 "cells": [
  {
   "cell_type": "markdown",
   "id": "a6f7e628",
   "metadata": {},
   "source": [
    "### 1. Given the string sentence = \"Hello, world!\", use string slicing to extract the word \"world\""
   ]
  },
  {
   "cell_type": "code",
   "execution_count": 1,
   "id": "6fc4a5e7",
   "metadata": {},
   "outputs": [
    {
     "name": "stdout",
     "output_type": "stream",
     "text": [
      "world\n"
     ]
    }
   ],
   "source": [
    "sentenced=\"Hello,world!\"\n",
    "x=sentenced[6:11]\n",
    "print(x)"
   ]
  },
  {
   "cell_type": "markdown",
   "id": "1ee995aa",
   "metadata": {},
   "source": [
    "### 2. Create a variable word = \"Python\" and use slicing to get the characters \"ytho\""
   ]
  },
  {
   "cell_type": "code",
   "execution_count": 3,
   "id": "d93d8662",
   "metadata": {},
   "outputs": [
    {
     "name": "stdout",
     "output_type": "stream",
     "text": [
      "ython\n"
     ]
    }
   ],
   "source": [
    "word=\"python\"\n",
    "# x=word[1:5]\n",
    "\n",
    "print(x)"
   ]
  },
  {
   "cell_type": "markdown",
   "id": "2b436a9d",
   "metadata": {},
   "source": [
    "### 3. Given the string text = \"abcdefgh\", use slicing to get the substring \"cdef"
   ]
  },
  {
   "cell_type": "code",
   "execution_count": 4,
   "id": "2f4333e7",
   "metadata": {},
   "outputs": [
    {
     "name": "stdout",
     "output_type": "stream",
     "text": [
      "cdef\n"
     ]
    }
   ],
   "source": [
    " text = \"abcdefgh\"\n",
    "x=text[2:6]\n",
    "print(x)"
   ]
  },
  {
   "cell_type": "markdown",
   "id": "a294c60d",
   "metadata": {},
   "source": [
    "### 4. Using slicing, extract the last three characters of the string \"programming\""
   ]
  },
  {
   "cell_type": "code",
   "execution_count": 6,
   "id": "da77e15b",
   "metadata": {},
   "outputs": [
    {
     "name": "stdout",
     "output_type": "stream",
     "text": [
      "ing\n"
     ]
    }
   ],
   "source": [
    "ipcs=\"programming\"\n",
    "x=ipcs[-3:]\n",
    "print(x)"
   ]
  },
  {
   "cell_type": "markdown",
   "id": "4c2ffcb6",
   "metadata": {},
   "source": [
    "### 5. Given the string message = \"I love coding\", extract the substring \"love\".\n"
   ]
  },
  {
   "cell_type": "code",
   "execution_count": 7,
   "id": "3e6acbb0",
   "metadata": {},
   "outputs": [
    {
     "name": "stdout",
     "output_type": "stream",
     "text": [
      "love\n"
     ]
    }
   ],
   "source": [
    "message=\"I love coding\"\n",
    "x=message[2:6]\n",
    "print(x)"
   ]
  },
  {
   "cell_type": "markdown",
   "id": "859611ca",
   "metadata": {},
   "source": [
    "### 6. Create a string greeting = \"Good morning\" and use slicing to reverse the string\n"
   ]
  },
  {
   "cell_type": "code",
   "execution_count": 9,
   "id": "a7107fc3",
   "metadata": {},
   "outputs": [
    {
     "name": "stdout",
     "output_type": "stream",
     "text": [
      "gninrom doog\n"
     ]
    }
   ],
   "source": [
    "greeting=\"good morning\"\n",
    "x=greeting[::-1]\n",
    "print(x)"
   ]
  },
  {
   "cell_type": "markdown",
   "id": "1c0b94ab",
   "metadata": {},
   "source": [
    "### 7. Given the string phrase = \"Hello, how are you?\", extract the substring \"how are\"."
   ]
  },
  {
   "cell_type": "code",
   "execution_count": 12,
   "id": "c0d12620",
   "metadata": {},
   "outputs": [
    {
     "name": "stdout",
     "output_type": "stream",
     "text": [
      "how are\n"
     ]
    }
   ],
   "source": [
    "phrase = \"Hello, how are you?\"\n",
    "x=phrase[7:14]\n",
    "print(x)"
   ]
  },
  {
   "cell_type": "markdown",
   "id": "f22c6310",
   "metadata": {},
   "source": [
    "### 8. Using slicing, remove the first and last characters from the string \"example\".\n"
   ]
  },
  {
   "cell_type": "code",
   "execution_count": 18,
   "id": "d5d30750",
   "metadata": {},
   "outputs": [
    {
     "name": "stdout",
     "output_type": "stream",
     "text": [
      "ee\n"
     ]
    }
   ],
   "source": [
    "string='example'\n",
    "x=string[0::6]\n",
    "print(x)"
   ]
  },
  {
   "cell_type": "markdown",
   "id": "761a2f12",
   "metadata": {},
   "source": [
    "### 9. Given the string long_word = \"supercalifragilisticexpialidocious\", extract the first 10 characters"
   ]
  },
  {
   "cell_type": "code",
   "execution_count": 19,
   "id": "b700a5d4",
   "metadata": {},
   "outputs": [
    {
     "name": "stdout",
     "output_type": "stream",
     "text": [
      "supercalif\n"
     ]
    }
   ],
   "source": [
    "long_word = \"supercalifragilisticexpialidocious\"\n",
    "print(long_word[:10])"
   ]
  },
  {
   "cell_type": "code",
   "execution_count": null,
   "id": "36232eb0",
   "metadata": {},
   "outputs": [],
   "source": []
  }
 ],
 "metadata": {
  "kernelspec": {
   "display_name": "Python 3 (ipykernel)",
   "language": "python",
   "name": "python3"
  },
  "language_info": {
   "codemirror_mode": {
    "name": "ipython",
    "version": 3
   },
   "file_extension": ".py",
   "mimetype": "text/x-python",
   "name": "python",
   "nbconvert_exporter": "python",
   "pygments_lexer": "ipython3",
   "version": "3.11.5"
  }
 },
 "nbformat": 4,
 "nbformat_minor": 5
}
