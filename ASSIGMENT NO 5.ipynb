{
 "cells": [
  {
   "cell_type": "markdown",
   "id": "f6e583a3",
   "metadata": {},
   "source": [
    "### 1. What function can you use to find the length of a list?\n"
   ]
  },
  {
   "cell_type": "code",
   "execution_count": 1,
   "id": "10f522b5",
   "metadata": {},
   "outputs": [
    {
     "name": "stdout",
     "output_type": "stream",
     "text": [
      "5\n"
     ]
    }
   ],
   "source": [
    "# len() #function\n",
    "list=[1,2,3,4,5,]\n",
    "print(len(list))"
   ]
  },
  {
   "cell_type": "markdown",
   "id": "ba750c89",
   "metadata": {},
   "source": [
    "### 2. How can you add an element to the end of a list using a function?"
   ]
  },
  {
   "cell_type": "code",
   "execution_count": 3,
   "id": "4eeea251",
   "metadata": {},
   "outputs": [
    {
     "name": "stdout",
     "output_type": "stream",
     "text": [
      "[1, 2, 3, 4, 5, 6]\n"
     ]
    }
   ],
   "source": [
    "list=[1,2,3,4,5,]\n",
    "list.append(6)\n",
    "print(list)"
   ]
  },
  {
   "cell_type": "markdown",
   "id": "1c88ab30",
   "metadata": {},
   "source": [
    "### 3. Describe the purpose of the list.append() function. Provide an example."
   ]
  },
  {
   "cell_type": "code",
   "execution_count": 6,
   "id": "30164834",
   "metadata": {},
   "outputs": [],
   "source": [
    "# problem number 3 is the example"
   ]
  },
  {
   "cell_type": "markdown",
   "id": "8bc15250",
   "metadata": {},
   "source": [
    "### 4. What is the outcome of using the list.remove() function on a list containing duplicate elements?"
   ]
  },
  {
   "cell_type": "code",
   "execution_count": 9,
   "id": "2668f41c",
   "metadata": {},
   "outputs": [
    {
     "name": "stdout",
     "output_type": "stream",
     "text": [
      "[1, 2, 3, 4, 5, 5]\n"
     ]
    }
   ],
   "source": [
    "list=[1,2,3,4,5,5,5]\n",
    "list.remove(5)\n",
    "# print(list)     remove the first occurence element"
   ]
  },
  {
   "cell_type": "markdown",
   "id": "454ca0b3",
   "metadata": {},
   "source": [
    "### 5. Explain the purpose of the list.insert() function. Provide an example"
   ]
  },
  {
   "cell_type": "code",
   "execution_count": 13,
   "id": "0fa11c43",
   "metadata": {},
   "outputs": [
    {
     "name": "stdout",
     "output_type": "stream",
     "text": [
      "[1, 2, 10, 3, 4, 5]\n"
     ]
    }
   ],
   "source": [
    "list=[1,2,3,4,5]\n",
    "list.insert(2,10)\n",
    "print(list) #insert givren element at given index"
   ]
  },
  {
   "cell_type": "markdown",
   "id": "b330e968",
   "metadata": {},
   "source": [
    "### 6. What function can you use to count the occurrences of a specific element in a list?"
   ]
  },
  {
   "cell_type": "code",
   "execution_count": 19,
   "id": "9afa2385",
   "metadata": {},
   "outputs": [
    {
     "name": "stdout",
     "output_type": "stream",
     "text": [
      "0\n"
     ]
    }
   ],
   "source": [
    "# list=[1,2,3,4,5,5,5]\n",
    "# x=list.count(5)\n",
    "# print(x)\n",
    "names = [\"Alice\", \"Bob\", \"Charlie\", \"David\", \"Eve\"]\n",
    "x=names.count('Alice')\n",
    "print(x)"
   ]
  },
  {
   "cell_type": "markdown",
   "id": "bcf332d4",
   "metadata": {},
   "source": [
    "### 7. How can you reverse the order of elements in a list using a function?"
   ]
  },
  {
   "cell_type": "code",
   "execution_count": 22,
   "id": "ac11b37d",
   "metadata": {},
   "outputs": [
    {
     "name": "stdout",
     "output_type": "stream",
     "text": [
      "['Eve', 'David', 'Charlie', 'Bob', 'Alice']\n"
     ]
    }
   ],
   "source": [
    "names = [\"Alice\", \"Bob\", \"Charlie\", \"David\", \"Eve\"]\n",
    "names.reverse()\n",
    "print(names)"
   ]
  },
  {
   "cell_type": "markdown",
   "id": "ae703a2f",
   "metadata": {},
   "source": [
    "### 8. Describe the behavior of the list.sort() function. Provide an example."
   ]
  },
  {
   "cell_type": "code",
   "execution_count": 24,
   "id": "690d0db9",
   "metadata": {},
   "outputs": [
    {
     "name": "stdout",
     "output_type": "stream",
     "text": [
      "[1, 2, 3, 4, 5, 5, 5]\n"
     ]
    }
   ],
   "source": [
    "list=[1,2,3,4,5,5,5]\n",
    "list.sort()\n",
    "print(list)"
   ]
  },
  {
   "cell_type": "markdown",
   "id": "cdd230d9",
   "metadata": {},
   "source": [
    "### 9. Explain the purpose of the list.extend() function. Provide an example."
   ]
  },
  {
   "cell_type": "code",
   "execution_count": 25,
   "id": "b75be171",
   "metadata": {},
   "outputs": [
    {
     "name": "stdout",
     "output_type": "stream",
     "text": [
      "[1, 2, 3, 4, 5, 5, 5, 6, 7, 8, 9, 10, 11, 12, 13, 14, 15]\n"
     ]
    }
   ],
   "source": [
    "list=[1,2,3,4,5,5,5]\n",
    "list.extend([6,7,8,9,10,11,12,13,14,15])\n",
    "print(list)"
   ]
  },
  {
   "cell_type": "markdown",
   "id": "a6648b38",
   "metadata": {},
   "source": [
    "### 10. How can you find the maximum and minimum values in a list using functions? Provide anexample for each.\n"
   ]
  },
  {
   "cell_type": "code",
   "execution_count": 34,
   "id": "6f98a1fd",
   "metadata": {},
   "outputs": [
    {
     "name": "stdout",
     "output_type": "stream",
     "text": [
      "6\n",
      "15\n"
     ]
    }
   ],
   "source": [
    "list=[6,7,8,9,10,11,12,13,14,15]\n",
    "x=max(list)\n",
    "y=min(list)\n",
    "print(y)\n",
    "print(x)"
   ]
  },
  {
   "cell_type": "markdown",
   "id": "6526fbe7",
   "metadata": {},
   "source": [
    "### 11. Describe the purpose of the list.pop() function. Provide an example.\n"
   ]
  },
  {
   "cell_type": "code",
   "execution_count": 35,
   "id": "a1cf68f7",
   "metadata": {},
   "outputs": [
    {
     "name": "stdout",
     "output_type": "stream",
     "text": [
      "[6, 7, 8, 9, 10, 11, 12, 13, 14]\n"
     ]
    }
   ],
   "source": [
    "list=[6,7,8,9,10,11,12,13,14,15]\n",
    "list.pop(-1)\n",
    "print(list)"
   ]
  },
  {
   "cell_type": "markdown",
   "id": "8a94d38c",
   "metadata": {},
   "source": [
    "### 12. Give difference between count and index."
   ]
  },
  {
   "cell_type": "code",
   "execution_count": 37,
   "id": "ea856972",
   "metadata": {},
   "outputs": [
    {
     "name": "stdout",
     "output_type": "stream",
     "text": [
      "1\n",
      "9\n"
     ]
    }
   ],
   "source": [
    "list=[6,7,8,9,10,11,12,13,14,15]\n",
    "x=list.count(15)\n",
    "y=list.index(15)\n",
    "print(x)\n",
    "print(y)\n"
   ]
  },
  {
   "cell_type": "code",
   "execution_count": null,
   "id": "19b8957a",
   "metadata": {},
   "outputs": [],
   "source": []
  }
 ],
 "metadata": {
  "kernelspec": {
   "display_name": "Python 3 (ipykernel)",
   "language": "python",
   "name": "python3"
  },
  "language_info": {
   "codemirror_mode": {
    "name": "ipython",
    "version": 3
   },
   "file_extension": ".py",
   "mimetype": "text/x-python",
   "name": "python",
   "nbconvert_exporter": "python",
   "pygments_lexer": "ipython3",
   "version": "3.11.5"
  }
 },
 "nbformat": 4,
 "nbformat_minor": 5
}
