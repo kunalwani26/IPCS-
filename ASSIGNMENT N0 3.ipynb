{
 "cells": [
  {
   "cell_type": "markdown",
   "id": "f6c9ab37",
   "metadata": {},
   "source": [
    "### 1. Given the list numbers = [1, 2, 3, 4, 5], access the first elementM3"
   ]
  },
  {
   "cell_type": "code",
   "execution_count": 1,
   "id": "f9da6a35",
   "metadata": {},
   "outputs": [
    {
     "name": "stdout",
     "output_type": "stream",
     "text": [
      "1\n"
     ]
    }
   ],
   "source": [
    "number=[1,2,3,4,5]\n",
    "x=number[0]\n",
    "print(x)"
   ]
  },
  {
   "cell_type": "markdown",
   "id": "3f08c157",
   "metadata": {},
   "source": [
    "### 2. Create a list fruits = [\"apple\", \"banana\", \"cherry\", \"mango\", \"papya\"] and use indexing to accessthe third element"
   ]
  },
  {
   "cell_type": "code",
   "execution_count": 6,
   "id": "e0f67421",
   "metadata": {},
   "outputs": [
    {
     "name": "stdout",
     "output_type": "stream",
     "text": [
      "0\n"
     ]
    }
   ],
   "source": [
    "fruits=[\"apple\", \"banana\", \"cherry\", \"mango\", \"papya\"]\n",
    "x=fruits.index(\"apple\")\n",
    "# print(fruits[2])\n",
    "print(x)"
   ]
  },
  {
   "cell_type": "markdown",
   "id": "67352ad2",
   "metadata": {},
   "source": [
    "### 3. Using slicing, extract the sublist [3, 4, 5] from the list my_list = [1, 2, 3, 4, 5, 6, 7, 8, 9, 10]."
   ]
  },
  {
   "cell_type": "code",
   "execution_count": 9,
   "id": "d9f95fd3",
   "metadata": {},
   "outputs": [
    {
     "name": "stdout",
     "output_type": "stream",
     "text": [
      "[3, 4, 5]\n"
     ]
    }
   ],
   "source": [
    "my_list = [1, 2, 3, 4, 5, 6, 7, 8, 9, 10]\n",
    "print(my_list[2:5])"
   ]
  },
  {
   "cell_type": "markdown",
   "id": "4370dda4",
   "metadata": {},
   "source": [
    "### 4. Given the list colors = [\"red\", \"green\", \"blue\", \"yellow\", \"purple\"], extract the sublist [\"green\",\"blue\"] using slicing."
   ]
  },
  {
   "cell_type": "code",
   "execution_count": 11,
   "id": "4ea5718e",
   "metadata": {},
   "outputs": [
    {
     "name": "stdout",
     "output_type": "stream",
     "text": [
      "['green', 'blue']\n"
     ]
    }
   ],
   "source": [
    " colors = [\"red\", \"green\", \"blue\", \"yellow\", \"purple\"]\n",
    "print(colors[1:3])"
   ]
  },
  {
   "cell_type": "markdown",
   "id": "31de703a",
   "metadata": {},
   "source": [
    "### 5. Create a list grades = [87, 92, 78, 95, 88] and modify the second element to be 90.\n"
   ]
  },
  {
   "cell_type": "code",
   "execution_count": 12,
   "id": "ab18b0e8",
   "metadata": {},
   "outputs": [
    {
     "name": "stdout",
     "output_type": "stream",
     "text": [
      "[87, 90, 78, 95, 88]\n"
     ]
    }
   ],
   "source": [
    "grades = [87, 92, 78, 95, 88] \n",
    "grades[1]=90\n",
    "print(grades)"
   ]
  },
  {
   "cell_type": "markdown",
   "id": "81bd3c90",
   "metadata": {},
   "source": [
    "### 6. Using negative indexing, access the last element of the list letters = [\"a\", \"b\", \"c\", \"d\", \"e\"]."
   ]
  },
  {
   "cell_type": "code",
   "execution_count": 13,
   "id": "5edffcf3",
   "metadata": {},
   "outputs": [
    {
     "name": "stdout",
     "output_type": "stream",
     "text": [
      "e\n"
     ]
    }
   ],
   "source": [
    " letters = [\"a\", \"b\", \"c\", \"d\", \"e\"]\n",
    "x=letters[-1]\n",
    "print(x)"
   ]
  },
  {
   "cell_type": "markdown",
   "id": "9cb01fde",
   "metadata": {},
   "source": [
    "### 7. Given the list values = [10, 20, 30, 40, 50], use slicing to extract [20, 30, 40]."
   ]
  },
  {
   "cell_type": "code",
   "execution_count": 14,
   "id": "28e1b09e",
   "metadata": {},
   "outputs": [
    {
     "name": "stdout",
     "output_type": "stream",
     "text": [
      "[20, 30, 40]\n"
     ]
    }
   ],
   "source": [
    " values = [10, 20, 30, 40, 50]\n",
    "x=values[1:4]\n",
    "print(x)"
   ]
  },
  {
   "cell_type": "markdown",
   "id": "1a4cf6c6",
   "metadata": {},
   "source": [
    "### 8. Create a list cities = [\"New York\", \"Los Angeles\", \"Chicago\", \"Houston\", \"Miami\"] and replace thethird element with \"Dallas\"."
   ]
  },
  {
   "cell_type": "code",
   "execution_count": 30,
   "id": "01e8a763",
   "metadata": {
    "scrolled": true
   },
   "outputs": [
    {
     "name": "stdout",
     "output_type": "stream",
     "text": [
      "['New York', 'Los Angeles', 'dallas', 'Chicago', 'Houston', 'Miami']\n"
     ]
    }
   ],
   "source": [
    "cities = [\"New York\", \"Los Angeles\", \"Chicago\", \"Houston\", \"Miami\"]\n",
    "cities.insert(2,\"dallas\")\n",
    "print(cities)"
   ]
  },
  {
   "cell_type": "markdown",
   "id": "f2206d34",
   "metadata": {},
   "source": [
    "### 9. Using list slicing, reverse the list [5, 4, 3, 2, 1]."
   ]
  },
  {
   "cell_type": "code",
   "execution_count": 31,
   "id": "1edf9aae",
   "metadata": {
    "scrolled": true
   },
   "outputs": [
    {
     "name": "stdout",
     "output_type": "stream",
     "text": [
      "[1, 2, 3, 4, 5]\n"
     ]
    }
   ],
   "source": [
    "list= [5, 4, 3, 2, 1]\n",
    "list.reverse()\n",
    "print(list)"
   ]
  },
  {
   "cell_type": "markdown",
   "id": "21918016",
   "metadata": {},
   "source": [
    "### 10. Given the list names = [\"Alice\", \"Bob\", \"Charlie\", \"David\", \"Eve\"], extract the sublist [\"Bob\",M\"Charlie\", \"David\"] using slicing"
   ]
  },
  {
   "cell_type": "code",
   "execution_count": 34,
   "id": "46a17ed3",
   "metadata": {},
   "outputs": [
    {
     "name": "stdout",
     "output_type": "stream",
     "text": [
      "['Bob', 'Charlie', 'David']\n"
     ]
    }
   ],
   "source": [
    "names = [\"Alice\", \"Bob\", \"Charlie\", \"David\", \"Eve\"]\n",
    "x=names[1:4]\n",
    "print(x)"
   ]
  },
  {
   "cell_type": "code",
   "execution_count": null,
   "id": "f1e8173d",
   "metadata": {},
   "outputs": [],
   "source": [
    "\n",
    "\n"
   ]
  },
  {
   "cell_type": "code",
   "execution_count": 1,
   "id": "944b9efd",
   "metadata": {},
   "outputs": [
    {
     "name": "stdout",
     "output_type": "stream",
     "text": [
      "[1, 2, 3, 4, 5, 6, 7, 8, 9, 10]\n"
     ]
    }
   ],
   "source": [
    "x=[1,2,3,4]\n",
    "# x.append(5)\n",
    "x.extend([5,6,7,8,9,10])\n",
    "print(x)"
   ]
  },
  {
   "cell_type": "code",
   "execution_count": 54,
   "id": "395aae8f",
   "metadata": {},
   "outputs": [
    {
     "name": "stdout",
     "output_type": "stream",
     "text": [
      "3\n"
     ]
    }
   ],
   "source": [
    "x=[1,2,3,4]\n",
    "o=x.index(4)\n",
    "print(o)"
   ]
  },
  {
   "cell_type": "code",
   "execution_count": 46,
   "id": "521c60c2",
   "metadata": {},
   "outputs": [
    {
     "name": "stdout",
     "output_type": "stream",
     "text": [
      "2\n"
     ]
    }
   ],
   "source": [
    "x=[1,2,3,4,4]\n",
    "o=x.count(4)\n",
    "print(o)"
   ]
  },
  {
   "cell_type": "code",
   "execution_count": null,
   "id": "86a9cc0c",
   "metadata": {},
   "outputs": [],
   "source": []
  }
 ],
 "metadata": {
  "kernelspec": {
   "display_name": "Python 3 (ipykernel)",
   "language": "python",
   "name": "python3"
  },
  "language_info": {
   "codemirror_mode": {
    "name": "ipython",
    "version": 3
   },
   "file_extension": ".py",
   "mimetype": "text/x-python",
   "name": "python",
   "nbconvert_exporter": "python",
   "pygments_lexer": "ipython3",
   "version": "3.11.5"
  }
 },
 "nbformat": 4,
 "nbformat_minor": 5
}
