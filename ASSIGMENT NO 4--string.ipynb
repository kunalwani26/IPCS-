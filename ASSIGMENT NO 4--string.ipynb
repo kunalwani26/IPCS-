{
 "cells": [
  {
   "cell_type": "markdown",
   "id": "24c30dad",
   "metadata": {},
   "source": [
    "### 1. Given the string text = \"Hello, World!\", use the len() function to find the length of the string. "
   ]
  },
  {
   "cell_type": "code",
   "execution_count": 3,
   "id": "496b4cd0",
   "metadata": {},
   "outputs": [
    {
     "name": "stdout",
     "output_type": "stream",
     "text": [
      "12\n"
     ]
    }
   ],
   "source": [
    "text=\"HELLO,WORLD!\"\n",
    "print(len(text))"
   ]
  },
  {
   "cell_type": "markdown",
   "id": "73414727",
   "metadata": {},
   "source": [
    "### 2. Create a string sentence = \"I am learning Python programming.\" and use the upper() function toconvert it to uppercase."
   ]
  },
  {
   "cell_type": "code",
   "execution_count": 4,
   "id": "949d37de",
   "metadata": {},
   "outputs": [
    {
     "name": "stdout",
     "output_type": "stream",
     "text": [
      "I AM LEARNING PYTHON PROGRAMMING.\n"
     ]
    }
   ],
   "source": [
    "sentence = \"I am learning Python programming.\".upper()\n",
    "print(sentence)"
   ]
  },
  {
   "cell_type": "markdown",
   "id": "38d1c307",
   "metadata": {},
   "source": [
    "### 3. Using the count() function, find out how many times the letter \"a\" appears in the string\"banana\"."
   ]
  },
  {
   "cell_type": "code",
   "execution_count": 6,
   "id": "66e72393",
   "metadata": {},
   "outputs": [
    {
     "name": "stdout",
     "output_type": "stream",
     "text": [
      "3\n"
     ]
    }
   ],
   "source": [
    "fruits=\"banana\"\n",
    "x=fruits.count('a')\n",
    "print(x)"
   ]
  },
  {
   "cell_type": "markdown",
   "id": "b637f252",
   "metadata": {},
   "source": [
    "### 4. Given the string message = \" Welcome to Python! \", use the strip() function to remove leadingand trailing spaces."
   ]
  },
  {
   "cell_type": "code",
   "execution_count": 79,
   "id": "dd226837",
   "metadata": {},
   "outputs": [
    {
     "name": "stdout",
     "output_type": "stream",
     "text": [
      "Welcome to Python!\n"
     ]
    }
   ],
   "source": [
    "message = \"wwwwwwwwwWelcome to Python!\"\n",
    "x=message.lstrip(\"w\")\n",
    "print(x)"
   ]
  },
  {
   "cell_type": "markdown",
   "id": "06cef2dc",
   "metadata": {},
   "source": [
    "### 5. Create a string word = \"excellent\" and use the replace() function to replace \"cell\" with \"cent\""
   ]
  },
  {
   "cell_type": "code",
   "execution_count": 65,
   "id": "f6f163a0",
   "metadata": {},
   "outputs": [
    {
     "name": "stdout",
     "output_type": "stream",
     "text": [
      "excentent\n"
     ]
    }
   ],
   "source": [
    "word = \"excellent\"\n",
    "x=word.replace(\"cell\",\"cent\")\n",
    "print(x)"
   ]
  },
  {
   "cell_type": "markdown",
   "id": "fb5dccfb",
   "metadata": {},
   "source": [
    "### 6. Using the find() function, determine the index of the first occurrence of the substring \"dog\" inthe string \"The quick brown fox jumps over the lazy dog.\". "
   ]
  },
  {
   "cell_type": "code",
   "execution_count": 70,
   "id": "81dfc866",
   "metadata": {},
   "outputs": [
    {
     "name": "stdout",
     "output_type": "stream",
     "text": [
      "40\n"
     ]
    }
   ],
   "source": [
    "string=\"The quick brown fox jumps over the lazy dog.\"\n",
    "x=string.find('dog')\n",
    "print(x)\n"
   ]
  },
  {
   "cell_type": "markdown",
   "id": "71b28734",
   "metadata": {},
   "source": [
    "### 7. Given the string text = \"one, two, three, four, five\", use the split() function to split it into a list ofwords. "
   ]
  },
  {
   "cell_type": "code",
   "execution_count": 100,
   "id": "0e316859",
   "metadata": {},
   "outputs": [
    {
     "name": "stdout",
     "output_type": "stream",
     "text": [
      "['one', ' two', ' three', ' four', ' five']\n"
     ]
    }
   ],
   "source": [
    "text = \"one, two, three, four, five\"\n",
    "x=text.split(\",\")\n",
    "print(x)"
   ]
  },
  {
   "cell_type": "markdown",
   "id": "663aa749",
   "metadata": {},
   "source": [
    "### 8. Create a string sentence = \"Python is fun!\" and use the startswith() function to check if it startswith the word \"Python\""
   ]
  },
  {
   "cell_type": "code",
   "execution_count": 85,
   "id": "11245dd0",
   "metadata": {},
   "outputs": [
    {
     "name": "stdout",
     "output_type": "stream",
     "text": [
      "True\n"
     ]
    }
   ],
   "source": [
    "sentence = \"Python is fun!\"\n",
    "x=sentence.startswith(\"Python\")\n",
    "print(x)"
   ]
  },
  {
   "cell_type": "markdown",
   "id": "23e26b33",
   "metadata": {},
   "source": [
    "### 9. Using the join() function, combine the elements of the list words = [\"Hello\", \"world\", \"Python\"]into a sentence. "
   ]
  },
  {
   "cell_type": "code",
   "execution_count": 94,
   "id": "61f1bf9f",
   "metadata": {},
   "outputs": [
    {
     "name": "stdout",
     "output_type": "stream",
     "text": [
      "Hello and world and Python\n"
     ]
    }
   ],
   "source": [
    "words = [\"Hello\", \"world\", \"Python\"]\n",
    "x=\" and \".join(words)\n",
    "print(x)"
   ]
  },
  {
   "cell_type": "markdown",
   "id": "fd5f9567",
   "metadata": {},
   "source": [
    "### 10. Given the string phrase = \"Hello there, how are you?\", use the capitalize() function to capitalizethe first letter of the sentence.x"
   ]
  },
  {
   "cell_type": "code",
   "execution_count": 104,
   "id": "6e43d3c1",
   "metadata": {},
   "outputs": [
    {
     "name": "stdout",
     "output_type": "stream",
     "text": [
      "Hello there, how are you?\n"
     ]
    }
   ],
   "source": [
    "phrase = \"hello there, how are you?\"\n",
    "x=phrase.capitalize()\n",
    "print(x)"
   ]
  },
  {
   "cell_type": "code",
   "execution_count": null,
   "id": "0476eca2",
   "metadata": {},
   "outputs": [],
   "source": []
  }
 ],
 "metadata": {
  "kernelspec": {
   "display_name": "Python 3 (ipykernel)",
   "language": "python",
   "name": "python3"
  },
  "language_info": {
   "codemirror_mode": {
    "name": "ipython",
    "version": 3
   },
   "file_extension": ".py",
   "mimetype": "text/x-python",
   "name": "python",
   "nbconvert_exporter": "python",
   "pygments_lexer": "ipython3",
   "version": "3.11.5"
  }
 },
 "nbformat": 4,
 "nbformat_minor": 5
}
