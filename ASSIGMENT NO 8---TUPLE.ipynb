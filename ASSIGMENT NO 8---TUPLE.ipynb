{
 "cells": [
  {
   "cell_type": "markdown",
   "id": "975e41b2",
   "metadata": {},
   "source": [
    "### 4. How do you create an empty tuple?"
   ]
  },
  {
   "cell_type": "code",
   "execution_count": 1,
   "id": "f4685385",
   "metadata": {},
   "outputs": [],
   "source": [
    "a=()"
   ]
  },
  {
   "cell_type": "markdown",
   "id": "45b74869",
   "metadata": {},
   "source": [
    "### 5. Explain the concept of tuple packing and unpacking."
   ]
  },
  {
   "cell_type": "code",
   "execution_count": 1,
   "id": "08e5a8b2",
   "metadata": {},
   "outputs": [
    {
     "name": "stdout",
     "output_type": "stream",
     "text": [
      "kunal\n"
     ]
    }
   ],
   "source": [
    "credential=(\"kunal\",\"password\",\"kunalwani26@\")\n",
    "paas1,pass2,pass3=credential #packing\n",
    "print(paas1) #unpacking"
   ]
  },
  {
   "cell_type": "markdown",
   "id": "2f47ac68",
   "metadata": {},
   "source": [
    "### 6. Write Python code to create a tuple containing the names of three ofyour favorite fruits."
   ]
  },
  {
   "cell_type": "code",
   "execution_count": 2,
   "id": "e0349b1b",
   "metadata": {},
   "outputs": [
    {
     "name": "stdout",
     "output_type": "stream",
     "text": [
      "('apple', 'grapes', 'banana')\n"
     ]
    }
   ],
   "source": [
    "fruits=(\"apple\",\"grapes\",\"banana\")\n",
    "print(fruits)"
   ]
  },
  {
   "cell_type": "markdown",
   "id": "4bf4d899",
   "metadata": {},
   "source": [
    "### 8. How can you access a specific element in a tuple?"
   ]
  },
  {
   "cell_type": "code",
   "execution_count": 3,
   "id": "1c8d61d0",
   "metadata": {},
   "outputs": [
    {
     "name": "stdout",
     "output_type": "stream",
     "text": [
      "4\n"
     ]
    }
   ],
   "source": [
    "a=(1,2,3,4,5)\n",
    "x=a[3]\n",
    "print(x)"
   ]
  },
  {
   "cell_type": "markdown",
   "id": "91073a0b",
   "metadata": {},
   "source": [
    "### 9. Given two tuples, how would you concatenate them into a single tuple?"
   ]
  },
  {
   "cell_type": "code",
   "execution_count": 7,
   "id": "eaee6e88",
   "metadata": {},
   "outputs": [
    {
     "name": "stdout",
     "output_type": "stream",
     "text": [
      "(1, 2, 3, 4, 5, 6, 7, 8, 9, 10)\n"
     ]
    }
   ],
   "source": [
    "a=(1,2,3,4,5,)\n",
    "b=(6,7,8,9,10)\n",
    "concatinated_tuple=tuple(a+b)\n",
    "print(concatinated_tuple)\n"
   ]
  },
  {
   "cell_type": "markdown",
   "id": "6fc570c5",
   "metadata": {},
   "source": [
    "### 10.Write a Python code that takes a tuple of numbers as input and returnsthe sum of those numbers."
   ]
  },
  {
   "cell_type": "code",
   "execution_count": 46,
   "id": "f7d839e7",
   "metadata": {},
   "outputs": [
    {
     "name": "stdout",
     "output_type": "stream",
     "text": [
      "write a tuple5,5\n"
     ]
    },
    {
     "ename": "ValueError",
     "evalue": "invalid literal for int() with base 10: '5,5'",
     "output_type": "error",
     "traceback": [
      "\u001b[1;31m---------------------------------------------------------------------------\u001b[0m",
      "\u001b[1;31mValueError\u001b[0m                                Traceback (most recent call last)",
      "Cell \u001b[1;32mIn[46], line 1\u001b[0m\n\u001b[1;32m----> 1\u001b[0m tup\u001b[38;5;241m=\u001b[39m\u001b[38;5;28mint\u001b[39m(\u001b[38;5;28minput\u001b[39m(\u001b[38;5;124m\"\u001b[39m\u001b[38;5;124mwrite a tuple\u001b[39m\u001b[38;5;124m\"\u001b[39m))\n\u001b[0;32m      2\u001b[0m x\u001b[38;5;241m=\u001b[39m\u001b[38;5;28msum\u001b[39m(tup)\n\u001b[0;32m      3\u001b[0m \u001b[38;5;28mprint\u001b[39m(x)\n",
      "\u001b[1;31mValueError\u001b[0m: invalid literal for int() with base 10: '5,5'"
     ]
    }
   ],
   "source": [
    "tup=int(input(\"write a tuple\"))\n",
    "x=sum(tup)\n",
    "print(x)\n"
   ]
  },
  {
   "cell_type": "markdown",
   "id": "cadb3c4a",
   "metadata": {},
   "source": [
    "### 11.Given a tuple (name, age, city), how would you unpack it into threeseparate variables?"
   ]
  },
  {
   "cell_type": "code",
   "execution_count": 21,
   "id": "ccaf0484",
   "metadata": {},
   "outputs": [
    {
     "name": "stdout",
     "output_type": "stream",
     "text": [
      "name\n",
      "age\n",
      "city\n"
     ]
    }
   ],
   "source": [
    "tuple1=('name', 'age', 'city')\n",
    "code1,code2,code3=tuple1\n",
    "print(code1)\n",
    "print(code2)\n",
    "print(code3)\n"
   ]
  },
  {
   "cell_type": "markdown",
   "id": "dc876e3a",
   "metadata": {},
   "source": [
    "### 12.Given a tuple (1, 2, 3, 4, 5), how would you slice it to get a new tuple (2,3, 4)?"
   ]
  },
  {
   "cell_type": "code",
   "execution_count": 4,
   "id": "b0d42207",
   "metadata": {},
   "outputs": [
    {
     "name": "stdout",
     "output_type": "stream",
     "text": [
      "(2, 3, 4)\n"
     ]
    }
   ],
   "source": [
    "tup=(1,2,3,4,5)\n",
    "x=tup[1:4]\n",
    "print(x)\n"
   ]
  },
  {
   "cell_type": "markdown",
   "id": "7fbdf01b",
   "metadata": {},
   "source": [
    "### 13.Can you create a tuple with just one element? If so, how would you doit?"
   ]
  },
  {
   "cell_type": "code",
   "execution_count": 6,
   "id": "600e8a56",
   "metadata": {},
   "outputs": [
    {
     "name": "stdout",
     "output_type": "stream",
     "text": [
      "(1,)\n",
      "<class 'tuple'>\n"
     ]
    }
   ],
   "source": [
    "a=(1,)\n",
    "print(a)\n",
    "print(type(a))"
   ]
  },
  {
   "cell_type": "markdown",
   "id": "05d76162",
   "metadata": {},
   "source": [
    "### 14.Given a tuple (3, 7, 2, 7, 1), how many times does the number 7 appear?"
   ]
  },
  {
   "cell_type": "code",
   "execution_count": 7,
   "id": "7170496b",
   "metadata": {},
   "outputs": [
    {
     "name": "stdout",
     "output_type": "stream",
     "text": [
      "2\n"
     ]
    }
   ],
   "source": [
    "lis=(3,7,2,7,1)\n",
    "x=lis.count(7)\n",
    "print(x)"
   ]
  },
  {
   "cell_type": "markdown",
   "id": "867e86e6",
   "metadata": {},
   "source": [
    "### 15.Create two tuples: one with the numbers 1 through 5 and another withthe same numbers in reverse order. Then, concatenate these tuples."
   ]
  },
  {
   "cell_type": "code",
   "execution_count": 9,
   "id": "abd42a68",
   "metadata": {},
   "outputs": [
    {
     "name": "stdout",
     "output_type": "stream",
     "text": [
      "concatenated tuple is (1, 2, 3, 4, 5, 5, 4, 3, 2, 1)\n"
     ]
    }
   ],
   "source": [
    "tup1=(1,2,3,4,5)\n",
    "tup2=(5,4,3,2,1)\n",
    "print(\"concatenated tuple is\",tup1+tup2)"
   ]
  },
  {
   "cell_type": "markdown",
   "id": "fdf2c96b",
   "metadata": {},
   "source": [
    "### 16.Given a tuple (10, 20, 30, 40, 50), use slicing to extract a new tuplecontaining the second and third elements"
   ]
  },
  {
   "cell_type": "code",
   "execution_count": 10,
   "id": "8604a0a2",
   "metadata": {},
   "outputs": [
    {
     "name": "stdout",
     "output_type": "stream",
     "text": [
      "(20, 30)\n"
     ]
    }
   ],
   "source": [
    "slic=(10, 20, 30, 40, 50)\n",
    "x=slic[1:3]\n",
    "print(x)\n"
   ]
  },
  {
   "cell_type": "markdown",
   "id": "65bc2f07",
   "metadata": {},
   "source": [
    "### 17.How would you get the last two elements from a tuple (5, 10, 15, 20)using slicing?\n"
   ]
  },
  {
   "cell_type": "code",
   "execution_count": 12,
   "id": "3f222d79",
   "metadata": {},
   "outputs": [
    {
     "name": "stdout",
     "output_type": "stream",
     "text": [
      "(15, 20)\n"
     ]
    }
   ],
   "source": [
    "tup=((5, 10, 15, 20))\n",
    "x=tup[2:]\n",
    "print(x)"
   ]
  },
  {
   "cell_type": "markdown",
   "id": "8a237ecd",
   "metadata": {},
   "source": [
    "### 18.Given a tuple (2, 4, 6, 8, 10), find the index of the element 6"
   ]
  },
  {
   "cell_type": "code",
   "execution_count": 13,
   "id": "7ebbbfe6",
   "metadata": {},
   "outputs": [
    {
     "name": "stdout",
     "output_type": "stream",
     "text": [
      "2\n"
     ]
    }
   ],
   "source": [
    "we=(2,4,6,8,10)\n",
    "x=we.index(6)\n",
    "print(x)"
   ]
  },
  {
   "cell_type": "markdown",
   "id": "0a377b97",
   "metadata": {},
   "source": [
    "### 19.How would you use the sorted() function to sort a tuple (5, 1, 8, 2) inascending order?"
   ]
  },
  {
   "cell_type": "code",
   "execution_count": 16,
   "id": "b0b27a1b",
   "metadata": {},
   "outputs": [
    {
     "name": "stdout",
     "output_type": "stream",
     "text": [
      "[1, 2, 5, 8]\n"
     ]
    }
   ],
   "source": [
    "tup1=(5, 1, 8, 2)\n",
    "x=sorted(tup1)\n",
    "print(x)"
   ]
  },
  {
   "cell_type": "markdown",
   "id": "82da12b0",
   "metadata": {},
   "source": [
    "### 20.Can you modify an element within a tuple after it has been created?Why or why not?\n"
   ]
  },
  {
   "cell_type": "code",
   "execution_count": 17,
   "id": "612455b8",
   "metadata": {},
   "outputs": [],
   "source": [
    "# no we cant because it is hashable or ummutable\n"
   ]
  },
  {
   "cell_type": "markdown",
   "id": "21526026",
   "metadata": {},
   "source": [
    "### 22.Create a tuple containing your name and age, then unpack it into twovariables."
   ]
  },
  {
   "cell_type": "code",
   "execution_count": 19,
   "id": "dd2bcfbb",
   "metadata": {
    "scrolled": true
   },
   "outputs": [
    {
     "name": "stdout",
     "output_type": "stream",
     "text": [
      "kunal\n",
      "24\n"
     ]
    }
   ],
   "source": [
    "tup1=('kunal',24)\n",
    "age,name=tup1\n",
    "print(age)\n",
    "print(name)"
   ]
  },
  {
   "cell_type": "markdown",
   "id": "14d7f8f6",
   "metadata": {},
   "source": [
    "### 23.Given a tuple (3.14, \"apple\", True), how would you unpack it into three variables?"
   ]
  },
  {
   "cell_type": "code",
   "execution_count": 23,
   "id": "a53025bc",
   "metadata": {},
   "outputs": [
    {
     "name": "stdout",
     "output_type": "stream",
     "text": [
      "3.14\n",
      "apple\n",
      "True\n"
     ]
    }
   ],
   "source": [
    "tup1=(3.14, \"apple\", True)\n",
    "floa,stri,booll=tup1\n",
    "print(floa)\n",
    "print(stri)\n",
    "print(booll)"
   ]
  },
  {
   "cell_type": "markdown",
   "id": "8ef2263e",
   "metadata": {},
   "source": [
    "### 24.List at least two advantages of using a tuple over a list in certainsituations."
   ]
  },
  {
   "cell_type": "code",
   "execution_count": 24,
   "id": "536c5ad0",
   "metadata": {},
   "outputs": [],
   "source": [
    "# using it in credential condition\n",
    "# memory effecient because it is hashable and does not require relocation\n"
   ]
  },
  {
   "cell_type": "code",
   "execution_count": 35,
   "id": "1ffb6f9e",
   "metadata": {},
   "outputs": [
    {
     "name": "stdout",
     "output_type": "stream",
     "text": [
      "[1, 2, 3, 4, 5]\n"
     ]
    }
   ],
   "source": [
    "a=[1,2,5,4,3]\n",
    "a.sort()\n",
    "print(a)\n"
   ]
  },
  {
   "cell_type": "code",
   "execution_count": 38,
   "id": "4e648c49",
   "metadata": {},
   "outputs": [
    {
     "data": {
      "text/plain": [
       "15"
      ]
     },
     "execution_count": 38,
     "metadata": {},
     "output_type": "execute_result"
    }
   ],
   "source": [
    "a=(1,2,3,4,5)\n",
    "b=sum(a)\n",
    "b"
   ]
  },
  {
   "cell_type": "code",
   "execution_count": null,
   "id": "c6b2d1ae",
   "metadata": {},
   "outputs": [],
   "source": []
  }
 ],
 "metadata": {
  "kernelspec": {
   "display_name": "Python 3 (ipykernel)",
   "language": "python",
   "name": "python3"
  },
  "language_info": {
   "codemirror_mode": {
    "name": "ipython",
    "version": 3
   },
   "file_extension": ".py",
   "mimetype": "text/x-python",
   "name": "python",
   "nbconvert_exporter": "python",
   "pygments_lexer": "ipython3",
   "version": "3.11.5"
  }
 },
 "nbformat": 4,
 "nbformat_minor": 5
}
